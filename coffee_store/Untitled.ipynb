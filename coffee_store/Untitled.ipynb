{
 "cells": [
  {
   "cell_type": "code",
   "execution_count": 1,
   "metadata": {},
   "outputs": [],
   "source": [
    "import requests\n",
    "import pandas as pd"
   ]
  },
  {
   "cell_type": "code",
   "execution_count": 2,
   "metadata": {},
   "outputs": [],
   "source": [
    "with open('./key.txt') as file:\n",
    "    SEOUL_API_AUTH_KEY = file.readline()"
   ]
  },
  {
   "cell_type": "code",
   "execution_count": 4,
   "metadata": {},
   "outputs": [],
   "source": [
    "url = f\"http://openapi.seoul.go.kr:8088/{SEOUL_API_AUTH_KEY}/json/SdeTlSccoSigW/1/25\""
   ]
  },
  {
   "cell_type": "code",
   "execution_count": 5,
   "metadata": {},
   "outputs": [
    {
     "name": "stdout",
     "output_type": "stream",
     "text": [
      "{'SdeTlSccoSigW': {'list_total_count': 25, 'RESULT': {'CODE': 'INFO-000', 'MESSAGE': '정상 처리되었습니다'}, 'row': [{'OBJECTID': 1.0, 'SIG_CD': '11320', 'SIG_KOR_NM': '도봉구', 'SIG_ENG_NM': 'Dobong-gu', 'ESRI_PK': 0.0, 'LAT': '37.6658609', 'LNG': '127.0317674'}, {'OBJECTID': 2.0, 'SIG_CD': '11380', 'SIG_KOR_NM': '은평구', 'SIG_ENG_NM': 'Eunpyeong-gu', 'ESRI_PK': 1.0, 'LAT': '37.6176125', 'LNG': '126.9227004'}, {'OBJECTID': 3.0, 'SIG_CD': '11230', 'SIG_KOR_NM': '동대문구', 'SIG_ENG_NM': 'Dongdaemun-gu', 'ESRI_PK': 2.0, 'LAT': '37.5838012', 'LNG': '127.0507003'}, {'OBJECTID': 4.0, 'SIG_CD': '11590', 'SIG_KOR_NM': '동작구', 'SIG_ENG_NM': 'Dongjak-gu', 'ESRI_PK': 3.0, 'LAT': '37.4965037', 'LNG': '126.9443073'}, {'OBJECTID': 5.0, 'SIG_CD': '11545', 'SIG_KOR_NM': '금천구', 'SIG_ENG_NM': 'Geumcheon-gu', 'ESRI_PK': 4.0, 'LAT': '37.4600969', 'LNG': '126.9001546'}, {'OBJECTID': 6.0, 'SIG_CD': '11530', 'SIG_KOR_NM': '구로구', 'SIG_ENG_NM': 'Guro-gu', 'ESRI_PK': 5.0, 'LAT': '37.4954856', 'LNG': '126.858121'}, {'OBJECTID': 7.0, 'SIG_CD': '11110', 'SIG_KOR_NM': '종로구', 'SIG_ENG_NM': 'Jongno-gu', 'ESRI_PK': 6.0, 'LAT': '37.5990998', 'LNG': '126.9861493'}, {'OBJECTID': 8.0, 'SIG_CD': '11305', 'SIG_KOR_NM': '강북구', 'SIG_ENG_NM': 'Gangbuk-gu', 'ESRI_PK': 7.0, 'LAT': '37.6469954', 'LNG': '127.0147158'}, {'OBJECTID': 9.0, 'SIG_CD': '11260', 'SIG_KOR_NM': '중랑구', 'SIG_ENG_NM': 'Jungnang-gu', 'ESRI_PK': 8.0, 'LAT': '37.5953795', 'LNG': '127.0939669'}, {'OBJECTID': 10.0, 'SIG_CD': '11680', 'SIG_KOR_NM': '강남구', 'SIG_ENG_NM': 'Gangnam-gu', 'ESRI_PK': 9.0, 'LAT': '37.4959854', 'LNG': '127.0664091'}, {'OBJECTID': 11.0, 'SIG_CD': '11500', 'SIG_KOR_NM': '강서구', 'SIG_ENG_NM': 'Gangseo-gu', 'ESRI_PK': 10.0, 'LAT': '37.5657617', 'LNG': '126.8226561'}, {'OBJECTID': 12.0, 'SIG_CD': '11140', 'SIG_KOR_NM': '중구', 'SIG_ENG_NM': 'Jung-gu', 'ESRI_PK': 11.0, 'LAT': '37.5579452', 'LNG': '126.9941904'}, {'OBJECTID': 13.0, 'SIG_CD': '11740', 'SIG_KOR_NM': '강동구', 'SIG_ENG_NM': 'Gangdong-gu', 'ESRI_PK': 12.0, 'LAT': '37.5492077', 'LNG': '127.1464824'}, {'OBJECTID': 14.0, 'SIG_CD': '11215', 'SIG_KOR_NM': '광진구', 'SIG_ENG_NM': 'Gwangjin-gu', 'ESRI_PK': 13.0, 'LAT': '37.5481445', 'LNG': '127.0857528'}, {'OBJECTID': 15.0, 'SIG_CD': '11440', 'SIG_KOR_NM': '마포구', 'SIG_ENG_NM': 'Mapo-gu', 'ESRI_PK': 14.0, 'LAT': '37.5622906', 'LNG': '126.9087803'}, {'OBJECTID': 16.0, 'SIG_CD': '11650', 'SIG_KOR_NM': '서초구', 'SIG_ENG_NM': 'Seocho-gu', 'ESRI_PK': 16.0, 'LAT': '37.4769528', 'LNG': '127.0378103'}, {'OBJECTID': 17.0, 'SIG_CD': '11290', 'SIG_KOR_NM': '성북구', 'SIG_ENG_NM': 'Seongbuk-gu', 'ESRI_PK': 17.0, 'LAT': '37.606991', 'LNG': '127.0232185'}, {'OBJECTID': 18.0, 'SIG_CD': '11350', 'SIG_KOR_NM': '노원구', 'SIG_ENG_NM': 'Nowon-gu', 'ESRI_PK': 18.0, 'LAT': '37.655264', 'LNG': '127.0771201'}, {'OBJECTID': 19.0, 'SIG_CD': '11710', 'SIG_KOR_NM': '송파구', 'SIG_ENG_NM': 'Songpa-gu', 'ESRI_PK': 19.0, 'LAT': '37.5048534', 'LNG': '127.1144822'}, {'OBJECTID': 20.0, 'SIG_CD': '11410', 'SIG_KOR_NM': '서대문구', 'SIG_ENG_NM': 'Seodaemun-gu', 'ESRI_PK': 21.0, 'LAT': '37.5820369', 'LNG': '126.9356665'}, {'OBJECTID': 21.0, 'SIG_CD': '11470', 'SIG_KOR_NM': '양천구', 'SIG_ENG_NM': 'Yangcheon-gu', 'ESRI_PK': 22.0, 'LAT': '37.5270616', 'LNG': '126.8561534'}, {'OBJECTID': 22.0, 'SIG_CD': '11560', 'SIG_KOR_NM': '영등포구', 'SIG_ENG_NM': 'Yeongdeungpo-gu', 'ESRI_PK': 23.0, 'LAT': '37.520641', 'LNG': '126.9139242'}, {'OBJECTID': 23.0, 'SIG_CD': '11620', 'SIG_KOR_NM': '관악구', 'SIG_ENG_NM': 'Gwanak-gu', 'ESRI_PK': 15.0, 'LAT': '37.4653993', 'LNG': '126.9438071'}, {'OBJECTID': 24.0, 'SIG_CD': '11200', 'SIG_KOR_NM': '성동구', 'SIG_ENG_NM': 'Seongdong-gu', 'ESRI_PK': 20.0, 'LAT': '37.5506753', 'LNG': '127.0409622'}, {'OBJECTID': 25.0, 'SIG_CD': '11170', 'SIG_KOR_NM': '용산구', 'SIG_ENG_NM': 'Yongsan-gu', 'ESRI_PK': 24.0, 'LAT': '37.5311008', 'LNG': '126.9810742'}]}}\n"
     ]
    }
   ],
   "source": [
    "result_dict = requests.get(url).json()\n",
    "print(result_dict)"
   ]
  },
  {
   "cell_type": "code",
   "execution_count": 6,
   "metadata": {},
   "outputs": [
    {
     "name": "stdout",
     "output_type": "stream",
     "text": [
      "25\n",
      "{'CODE': 'INFO-000', 'MESSAGE': '정상 처리되었습니다'}\n",
      "{'OBJECTID': 1.0, 'SIG_CD': '11320', 'SIG_KOR_NM': '도봉구', 'SIG_ENG_NM': 'Dobong-gu', 'ESRI_PK': 0.0, 'LAT': '37.6658609', 'LNG': '127.0317674'}\n"
     ]
    }
   ],
   "source": [
    "result_data = result_dict['SdeTlSccoSigW']\n",
    "\n",
    "print(result_data['list_total_count'])\n",
    "print(result_data['RESULT'])\n",
    "print(result_data['row'][0])"
   ]
  },
  {
   "cell_type": "code",
   "execution_count": 7,
   "metadata": {},
   "outputs": [
    {
     "data": {
      "text/html": [
       "<div>\n",
       "<style scoped>\n",
       "    .dataframe tbody tr th:only-of-type {\n",
       "        vertical-align: middle;\n",
       "    }\n",
       "\n",
       "    .dataframe tbody tr th {\n",
       "        vertical-align: top;\n",
       "    }\n",
       "\n",
       "    .dataframe thead th {\n",
       "        text-align: right;\n",
       "    }\n",
       "</style>\n",
       "<table border=\"1\" class=\"dataframe\">\n",
       "  <thead>\n",
       "    <tr style=\"text-align: right;\">\n",
       "      <th></th>\n",
       "      <th>OBJECTID</th>\n",
       "      <th>SIG_CD</th>\n",
       "      <th>SIG_KOR_NM</th>\n",
       "      <th>SIG_ENG_NM</th>\n",
       "      <th>ESRI_PK</th>\n",
       "      <th>LAT</th>\n",
       "      <th>LNG</th>\n",
       "    </tr>\n",
       "  </thead>\n",
       "  <tbody>\n",
       "    <tr>\n",
       "      <th>0</th>\n",
       "      <td>1.0</td>\n",
       "      <td>11320</td>\n",
       "      <td>도봉구</td>\n",
       "      <td>Dobong-gu</td>\n",
       "      <td>0.0</td>\n",
       "      <td>37.6658609</td>\n",
       "      <td>127.0317674</td>\n",
       "    </tr>\n",
       "    <tr>\n",
       "      <th>1</th>\n",
       "      <td>2.0</td>\n",
       "      <td>11380</td>\n",
       "      <td>은평구</td>\n",
       "      <td>Eunpyeong-gu</td>\n",
       "      <td>1.0</td>\n",
       "      <td>37.6176125</td>\n",
       "      <td>126.9227004</td>\n",
       "    </tr>\n",
       "    <tr>\n",
       "      <th>2</th>\n",
       "      <td>3.0</td>\n",
       "      <td>11230</td>\n",
       "      <td>동대문구</td>\n",
       "      <td>Dongdaemun-gu</td>\n",
       "      <td>2.0</td>\n",
       "      <td>37.5838012</td>\n",
       "      <td>127.0507003</td>\n",
       "    </tr>\n",
       "    <tr>\n",
       "      <th>3</th>\n",
       "      <td>4.0</td>\n",
       "      <td>11590</td>\n",
       "      <td>동작구</td>\n",
       "      <td>Dongjak-gu</td>\n",
       "      <td>3.0</td>\n",
       "      <td>37.4965037</td>\n",
       "      <td>126.9443073</td>\n",
       "    </tr>\n",
       "    <tr>\n",
       "      <th>4</th>\n",
       "      <td>5.0</td>\n",
       "      <td>11545</td>\n",
       "      <td>금천구</td>\n",
       "      <td>Geumcheon-gu</td>\n",
       "      <td>4.0</td>\n",
       "      <td>37.4600969</td>\n",
       "      <td>126.9001546</td>\n",
       "    </tr>\n",
       "  </tbody>\n",
       "</table>\n",
       "</div>"
      ],
      "text/plain": [
       "   OBJECTID SIG_CD SIG_KOR_NM     SIG_ENG_NM  ESRI_PK         LAT          LNG\n",
       "0       1.0  11320        도봉구      Dobong-gu      0.0  37.6658609  127.0317674\n",
       "1       2.0  11380        은평구   Eunpyeong-gu      1.0  37.6176125  126.9227004\n",
       "2       3.0  11230       동대문구  Dongdaemun-gu      2.0  37.5838012  127.0507003\n",
       "3       4.0  11590        동작구     Dongjak-gu      3.0  37.4965037  126.9443073\n",
       "4       5.0  11545        금천구   Geumcheon-gu      4.0  37.4600969  126.9001546"
      ]
     },
     "execution_count": 7,
     "metadata": {},
     "output_type": "execute_result"
    }
   ],
   "source": [
    "data_list = result_data['row']\n",
    "sample_df = pd.DataFrame(data_list)\n",
    "sample_df.head()"
   ]
  },
  {
   "cell_type": "code",
   "execution_count": 8,
   "metadata": {},
   "outputs": [],
   "source": [
    "# 서울열린데이터광장 OPEN API 호출을 위한 공통 함수\n",
    "def seoul_open_api_data(url, service):\n",
    "    data_list = []\n",
    "    try:\n",
    "        result_dict = requests.get(url).json()\n",
    "        result_data = result_dict[service]\n",
    "        code = result_data['RESULT']['CODE']\n",
    "        if code == 'INFO-000':\n",
    "            data_list = result_data['row']\n",
    "    except:  #noqa\n",
    "        pass\n",
    "    return data_list"
   ]
  },
  {
   "cell_type": "code",
   "execution_count": 9,
   "metadata": {},
   "outputs": [
    {
     "data": {
      "text/plain": [
       "{'OBJECTID': 1.0,\n",
       " 'SIG_CD': '11320',\n",
       " 'SIG_KOR_NM': '도봉구',\n",
       " 'SIG_ENG_NM': 'Dobong-gu',\n",
       " 'ESRI_PK': 0.0,\n",
       " 'LAT': '37.6658609',\n",
       " 'LNG': '127.0317674'}"
      ]
     },
     "execution_count": 9,
     "metadata": {},
     "output_type": "execute_result"
    }
   ],
   "source": [
    "sgg_url = f\"http://openapi.seoul.go.kr:8088/{SEOUL_API_AUTH_KEY}/json/SdeTlSccoSigW/1/25\"\n",
    "sgg_data_list = seoul_open_api_data(url, 'SdeTlSccoSigW')\n",
    "sgg_data_list[0]"
   ]
  },
  {
   "cell_type": "code",
   "execution_count": 10,
   "metadata": {},
   "outputs": [
    {
     "data": {
      "text/html": [
       "<div>\n",
       "<style scoped>\n",
       "    .dataframe tbody tr th:only-of-type {\n",
       "        vertical-align: middle;\n",
       "    }\n",
       "\n",
       "    .dataframe tbody tr th {\n",
       "        vertical-align: top;\n",
       "    }\n",
       "\n",
       "    .dataframe thead th {\n",
       "        text-align: right;\n",
       "    }\n",
       "</style>\n",
       "<table border=\"1\" class=\"dataframe\">\n",
       "  <thead>\n",
       "    <tr style=\"text-align: right;\">\n",
       "      <th></th>\n",
       "      <th>SIG_CD</th>\n",
       "      <th>SIG_KOR_NM</th>\n",
       "      <th>LAT</th>\n",
       "      <th>LNG</th>\n",
       "    </tr>\n",
       "  </thead>\n",
       "  <tbody>\n",
       "    <tr>\n",
       "      <th>0</th>\n",
       "      <td>11320</td>\n",
       "      <td>도봉구</td>\n",
       "      <td>37.6658609</td>\n",
       "      <td>127.0317674</td>\n",
       "    </tr>\n",
       "    <tr>\n",
       "      <th>1</th>\n",
       "      <td>11380</td>\n",
       "      <td>은평구</td>\n",
       "      <td>37.6176125</td>\n",
       "      <td>126.9227004</td>\n",
       "    </tr>\n",
       "    <tr>\n",
       "      <th>2</th>\n",
       "      <td>11230</td>\n",
       "      <td>동대문구</td>\n",
       "      <td>37.5838012</td>\n",
       "      <td>127.0507003</td>\n",
       "    </tr>\n",
       "    <tr>\n",
       "      <th>3</th>\n",
       "      <td>11590</td>\n",
       "      <td>동작구</td>\n",
       "      <td>37.4965037</td>\n",
       "      <td>126.9443073</td>\n",
       "    </tr>\n",
       "    <tr>\n",
       "      <th>4</th>\n",
       "      <td>11545</td>\n",
       "      <td>금천구</td>\n",
       "      <td>37.4600969</td>\n",
       "      <td>126.9001546</td>\n",
       "    </tr>\n",
       "  </tbody>\n",
       "</table>\n",
       "</div>"
      ],
      "text/plain": [
       "  SIG_CD SIG_KOR_NM         LAT          LNG\n",
       "0  11320        도봉구  37.6658609  127.0317674\n",
       "1  11380        은평구  37.6176125  126.9227004\n",
       "2  11230       동대문구  37.5838012  127.0507003\n",
       "3  11590        동작구  37.4965037  126.9443073\n",
       "4  11545        금천구  37.4600969  126.9001546"
      ]
     },
     "execution_count": 10,
     "metadata": {},
     "output_type": "execute_result"
    }
   ],
   "source": [
    "columns = ['SIG_CD', 'SIG_KOR_NM', 'LAT', 'LNG']\n",
    "sgg_df = pd.DataFrame(sgg_data_list, columns=columns)\n",
    "sgg_df.head()"
   ]
  },
  {
   "cell_type": "code",
   "execution_count": 11,
   "metadata": {},
   "outputs": [
    {
     "data": {
      "text/html": [
       "<div>\n",
       "<style scoped>\n",
       "    .dataframe tbody tr th:only-of-type {\n",
       "        vertical-align: middle;\n",
       "    }\n",
       "\n",
       "    .dataframe tbody tr th {\n",
       "        vertical-align: top;\n",
       "    }\n",
       "\n",
       "    .dataframe thead th {\n",
       "        text-align: right;\n",
       "    }\n",
       "</style>\n",
       "<table border=\"1\" class=\"dataframe\">\n",
       "  <thead>\n",
       "    <tr style=\"text-align: right;\">\n",
       "      <th></th>\n",
       "      <th>시군구코드</th>\n",
       "      <th>시군구명</th>\n",
       "      <th>위도</th>\n",
       "      <th>경도</th>\n",
       "    </tr>\n",
       "  </thead>\n",
       "  <tbody>\n",
       "    <tr>\n",
       "      <th>0</th>\n",
       "      <td>11320</td>\n",
       "      <td>도봉구</td>\n",
       "      <td>37.6658609</td>\n",
       "      <td>127.0317674</td>\n",
       "    </tr>\n",
       "    <tr>\n",
       "      <th>1</th>\n",
       "      <td>11380</td>\n",
       "      <td>은평구</td>\n",
       "      <td>37.6176125</td>\n",
       "      <td>126.9227004</td>\n",
       "    </tr>\n",
       "    <tr>\n",
       "      <th>2</th>\n",
       "      <td>11230</td>\n",
       "      <td>동대문구</td>\n",
       "      <td>37.5838012</td>\n",
       "      <td>127.0507003</td>\n",
       "    </tr>\n",
       "    <tr>\n",
       "      <th>3</th>\n",
       "      <td>11590</td>\n",
       "      <td>동작구</td>\n",
       "      <td>37.4965037</td>\n",
       "      <td>126.9443073</td>\n",
       "    </tr>\n",
       "    <tr>\n",
       "      <th>4</th>\n",
       "      <td>11545</td>\n",
       "      <td>금천구</td>\n",
       "      <td>37.4600969</td>\n",
       "      <td>126.9001546</td>\n",
       "    </tr>\n",
       "  </tbody>\n",
       "</table>\n",
       "</div>"
      ],
      "text/plain": [
       "   시군구코드  시군구명          위도           경도\n",
       "0  11320   도봉구  37.6658609  127.0317674\n",
       "1  11380   은평구  37.6176125  126.9227004\n",
       "2  11230  동대문구  37.5838012  127.0507003\n",
       "3  11590   동작구  37.4965037  126.9443073\n",
       "4  11545   금천구  37.4600969  126.9001546"
      ]
     },
     "execution_count": 11,
     "metadata": {},
     "output_type": "execute_result"
    }
   ],
   "source": [
    "sgg_df.columns = ['시군구코드', '시군구명', '위도', '경도']\n",
    "sgg_df.head()"
   ]
  },
  {
   "cell_type": "code",
   "execution_count": 12,
   "metadata": {},
   "outputs": [
    {
     "name": "stdout",
     "output_type": "stream",
     "text": [
      "<class 'pandas.core.frame.DataFrame'>\n",
      "RangeIndex: 25 entries, 0 to 24\n",
      "Data columns (total 4 columns):\n",
      " #   Column  Non-Null Count  Dtype \n",
      "---  ------  --------------  ----- \n",
      " 0   시군구코드   25 non-null     object\n",
      " 1   시군구명    25 non-null     object\n",
      " 2   위도      25 non-null     object\n",
      " 3   경도      25 non-null     object\n",
      "dtypes: object(4)\n",
      "memory usage: 928.0+ bytes\n"
     ]
    }
   ],
   "source": [
    "sgg_df.info()"
   ]
  },
  {
   "cell_type": "code",
   "execution_count": 13,
   "metadata": {},
   "outputs": [],
   "source": [
    "sgg_df.to_excel('./files/seoul_sgg_list.xlsx', index=False)"
   ]
  }
 ],
 "metadata": {
  "kernelspec": {
   "display_name": "Python 3",
   "language": "python",
   "name": "python3"
  },
  "language_info": {
   "codemirror_mode": {
    "name": "ipython",
    "version": 3
   },
   "file_extension": ".py",
   "mimetype": "text/x-python",
   "name": "python",
   "nbconvert_exporter": "python",
   "pygments_lexer": "ipython3",
   "version": "3.8.5"
  }
 },
 "nbformat": 4,
 "nbformat_minor": 4
}
