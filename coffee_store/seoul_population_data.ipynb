{
 "cells": [
  {
   "cell_type": "code",
   "execution_count": 1,
   "metadata": {},
   "outputs": [],
   "source": [
    "import requests\n",
    "import pandas as pd"
   ]
  },
  {
   "cell_type": "code",
   "execution_count": 2,
   "metadata": {},
   "outputs": [],
   "source": [
    "with open('./key.txt') as file:\n",
    "    SEOUL_API_AUTH_KEY = file.readline()"
   ]
  },
  {
   "cell_type": "code",
   "execution_count": 4,
   "metadata": {},
   "outputs": [],
   "source": [
    "url = f\"http://openapi.seoul.go.kr:8088/{SEOUL_API_AUTH_KEY}/json/SdeTlSccoSigW/1/25\""
   ]
  },
  {
   "cell_type": "code",
   "execution_count": 5,
   "metadata": {},
   "outputs": [
    {
     "name": "stdout",
     "output_type": "stream",
     "text": [
      "{'SdeTlSccoSigW': {'list_total_count': 25, 'RESULT': {'CODE': 'INFO-000', 'MESSAGE': '정상 처리되었습니다'}, 'row': [{'OBJECTID': 1.0, 'SIG_CD': '11320', 'SIG_KOR_NM': '도봉구', 'SIG_ENG_NM': 'Dobong-gu', 'ESRI_PK': 0.0, 'LAT': '37.6658609', 'LNG': '127.0317674'}, {'OBJECTID': 2.0, 'SIG_CD': '11380', 'SIG_KOR_NM': '은평구', 'SIG_ENG_NM': 'Eunpyeong-gu', 'ESRI_PK': 1.0, 'LAT': '37.6176125', 'LNG': '126.9227004'}, {'OBJECTID': 3.0, 'SIG_CD': '11230', 'SIG_KOR_NM': '동대문구', 'SIG_ENG_NM': 'Dongdaemun-gu', 'ESRI_PK': 2.0, 'LAT': '37.5838012', 'LNG': '127.0507003'}, {'OBJECTID': 4.0, 'SIG_CD': '11590', 'SIG_KOR_NM': '동작구', 'SIG_ENG_NM': 'Dongjak-gu', 'ESRI_PK': 3.0, 'LAT': '37.4965037', 'LNG': '126.9443073'}, {'OBJECTID': 5.0, 'SIG_CD': '11545', 'SIG_KOR_NM': '금천구', 'SIG_ENG_NM': 'Geumcheon-gu', 'ESRI_PK': 4.0, 'LAT': '37.4600969', 'LNG': '126.9001546'}, {'OBJECTID': 6.0, 'SIG_CD': '11530', 'SIG_KOR_NM': '구로구', 'SIG_ENG_NM': 'Guro-gu', 'ESRI_PK': 5.0, 'LAT': '37.4954856', 'LNG': '126.858121'}, {'OBJECTID': 7.0, 'SIG_CD': '11110', 'SIG_KOR_NM': '종로구', 'SIG_ENG_NM': 'Jongno-gu', 'ESRI_PK': 6.0, 'LAT': '37.5990998', 'LNG': '126.9861493'}, {'OBJECTID': 8.0, 'SIG_CD': '11305', 'SIG_KOR_NM': '강북구', 'SIG_ENG_NM': 'Gangbuk-gu', 'ESRI_PK': 7.0, 'LAT': '37.6469954', 'LNG': '127.0147158'}, {'OBJECTID': 9.0, 'SIG_CD': '11260', 'SIG_KOR_NM': '중랑구', 'SIG_ENG_NM': 'Jungnang-gu', 'ESRI_PK': 8.0, 'LAT': '37.5953795', 'LNG': '127.0939669'}, {'OBJECTID': 10.0, 'SIG_CD': '11680', 'SIG_KOR_NM': '강남구', 'SIG_ENG_NM': 'Gangnam-gu', 'ESRI_PK': 9.0, 'LAT': '37.4959854', 'LNG': '127.0664091'}, {'OBJECTID': 11.0, 'SIG_CD': '11500', 'SIG_KOR_NM': '강서구', 'SIG_ENG_NM': 'Gangseo-gu', 'ESRI_PK': 10.0, 'LAT': '37.5657617', 'LNG': '126.8226561'}, {'OBJECTID': 12.0, 'SIG_CD': '11140', 'SIG_KOR_NM': '중구', 'SIG_ENG_NM': 'Jung-gu', 'ESRI_PK': 11.0, 'LAT': '37.5579452', 'LNG': '126.9941904'}, {'OBJECTID': 13.0, 'SIG_CD': '11740', 'SIG_KOR_NM': '강동구', 'SIG_ENG_NM': 'Gangdong-gu', 'ESRI_PK': 12.0, 'LAT': '37.5492077', 'LNG': '127.1464824'}, {'OBJECTID': 14.0, 'SIG_CD': '11215', 'SIG_KOR_NM': '광진구', 'SIG_ENG_NM': 'Gwangjin-gu', 'ESRI_PK': 13.0, 'LAT': '37.5481445', 'LNG': '127.0857528'}, {'OBJECTID': 15.0, 'SIG_CD': '11440', 'SIG_KOR_NM': '마포구', 'SIG_ENG_NM': 'Mapo-gu', 'ESRI_PK': 14.0, 'LAT': '37.5622906', 'LNG': '126.9087803'}, {'OBJECTID': 16.0, 'SIG_CD': '11650', 'SIG_KOR_NM': '서초구', 'SIG_ENG_NM': 'Seocho-gu', 'ESRI_PK': 16.0, 'LAT': '37.4769528', 'LNG': '127.0378103'}, {'OBJECTID': 17.0, 'SIG_CD': '11290', 'SIG_KOR_NM': '성북구', 'SIG_ENG_NM': 'Seongbuk-gu', 'ESRI_PK': 17.0, 'LAT': '37.606991', 'LNG': '127.0232185'}, {'OBJECTID': 18.0, 'SIG_CD': '11350', 'SIG_KOR_NM': '노원구', 'SIG_ENG_NM': 'Nowon-gu', 'ESRI_PK': 18.0, 'LAT': '37.655264', 'LNG': '127.0771201'}, {'OBJECTID': 19.0, 'SIG_CD': '11710', 'SIG_KOR_NM': '송파구', 'SIG_ENG_NM': 'Songpa-gu', 'ESRI_PK': 19.0, 'LAT': '37.5048534', 'LNG': '127.1144822'}, {'OBJECTID': 20.0, 'SIG_CD': '11410', 'SIG_KOR_NM': '서대문구', 'SIG_ENG_NM': 'Seodaemun-gu', 'ESRI_PK': 21.0, 'LAT': '37.5820369', 'LNG': '126.9356665'}, {'OBJECTID': 21.0, 'SIG_CD': '11470', 'SIG_KOR_NM': '양천구', 'SIG_ENG_NM': 'Yangcheon-gu', 'ESRI_PK': 22.0, 'LAT': '37.5270616', 'LNG': '126.8561534'}, {'OBJECTID': 22.0, 'SIG_CD': '11560', 'SIG_KOR_NM': '영등포구', 'SIG_ENG_NM': 'Yeongdeungpo-gu', 'ESRI_PK': 23.0, 'LAT': '37.520641', 'LNG': '126.9139242'}, {'OBJECTID': 23.0, 'SIG_CD': '11620', 'SIG_KOR_NM': '관악구', 'SIG_ENG_NM': 'Gwanak-gu', 'ESRI_PK': 15.0, 'LAT': '37.4653993', 'LNG': '126.9438071'}, {'OBJECTID': 24.0, 'SIG_CD': '11200', 'SIG_KOR_NM': '성동구', 'SIG_ENG_NM': 'Seongdong-gu', 'ESRI_PK': 20.0, 'LAT': '37.5506753', 'LNG': '127.0409622'}, {'OBJECTID': 25.0, 'SIG_CD': '11170', 'SIG_KOR_NM': '용산구', 'SIG_ENG_NM': 'Yongsan-gu', 'ESRI_PK': 24.0, 'LAT': '37.5311008', 'LNG': '126.9810742'}]}}\n"
     ]
    }
   ],
   "source": [
    "result_dict = requests.get(url).json()\n",
    "print(result_dict)"
   ]
  },
  {
   "cell_type": "code",
   "execution_count": 6,
   "metadata": {},
   "outputs": [
    {
     "name": "stdout",
     "output_type": "stream",
     "text": [
      "25\n",
      "{'CODE': 'INFO-000', 'MESSAGE': '정상 처리되었습니다'}\n",
      "{'OBJECTID': 1.0, 'SIG_CD': '11320', 'SIG_KOR_NM': '도봉구', 'SIG_ENG_NM': 'Dobong-gu', 'ESRI_PK': 0.0, 'LAT': '37.6658609', 'LNG': '127.0317674'}\n"
     ]
    }
   ],
   "source": [
    "result_data = result_dict['SdeTlSccoSigW']\n",
    "\n",
    "print(result_data['list_total_count'])\n",
    "print(result_data['RESULT'])\n",
    "print(result_data['row'][0])"
   ]
  },
  {
   "cell_type": "code",
   "execution_count": 7,
   "metadata": {},
   "outputs": [
    {
     "data": {
      "text/html": [
       "<div>\n",
       "<style scoped>\n",
       "    .dataframe tbody tr th:only-of-type {\n",
       "        vertical-align: middle;\n",
       "    }\n",
       "\n",
       "    .dataframe tbody tr th {\n",
       "        vertical-align: top;\n",
       "    }\n",
       "\n",
       "    .dataframe thead th {\n",
       "        text-align: right;\n",
       "    }\n",
       "</style>\n",
       "<table border=\"1\" class=\"dataframe\">\n",
       "  <thead>\n",
       "    <tr style=\"text-align: right;\">\n",
       "      <th></th>\n",
       "      <th>OBJECTID</th>\n",
       "      <th>SIG_CD</th>\n",
       "      <th>SIG_KOR_NM</th>\n",
       "      <th>SIG_ENG_NM</th>\n",
       "      <th>ESRI_PK</th>\n",
       "      <th>LAT</th>\n",
       "      <th>LNG</th>\n",
       "    </tr>\n",
       "  </thead>\n",
       "  <tbody>\n",
       "    <tr>\n",
       "      <th>0</th>\n",
       "      <td>1.0</td>\n",
       "      <td>11320</td>\n",
       "      <td>도봉구</td>\n",
       "      <td>Dobong-gu</td>\n",
       "      <td>0.0</td>\n",
       "      <td>37.6658609</td>\n",
       "      <td>127.0317674</td>\n",
       "    </tr>\n",
       "    <tr>\n",
       "      <th>1</th>\n",
       "      <td>2.0</td>\n",
       "      <td>11380</td>\n",
       "      <td>은평구</td>\n",
       "      <td>Eunpyeong-gu</td>\n",
       "      <td>1.0</td>\n",
       "      <td>37.6176125</td>\n",
       "      <td>126.9227004</td>\n",
       "    </tr>\n",
       "    <tr>\n",
       "      <th>2</th>\n",
       "      <td>3.0</td>\n",
       "      <td>11230</td>\n",
       "      <td>동대문구</td>\n",
       "      <td>Dongdaemun-gu</td>\n",
       "      <td>2.0</td>\n",
       "      <td>37.5838012</td>\n",
       "      <td>127.0507003</td>\n",
       "    </tr>\n",
       "    <tr>\n",
       "      <th>3</th>\n",
       "      <td>4.0</td>\n",
       "      <td>11590</td>\n",
       "      <td>동작구</td>\n",
       "      <td>Dongjak-gu</td>\n",
       "      <td>3.0</td>\n",
       "      <td>37.4965037</td>\n",
       "      <td>126.9443073</td>\n",
       "    </tr>\n",
       "    <tr>\n",
       "      <th>4</th>\n",
       "      <td>5.0</td>\n",
       "      <td>11545</td>\n",
       "      <td>금천구</td>\n",
       "      <td>Geumcheon-gu</td>\n",
       "      <td>4.0</td>\n",
       "      <td>37.4600969</td>\n",
       "      <td>126.9001546</td>\n",
       "    </tr>\n",
       "  </tbody>\n",
       "</table>\n",
       "</div>"
      ],
      "text/plain": [
       "   OBJECTID SIG_CD SIG_KOR_NM     SIG_ENG_NM  ESRI_PK         LAT          LNG\n",
       "0       1.0  11320        도봉구      Dobong-gu      0.0  37.6658609  127.0317674\n",
       "1       2.0  11380        은평구   Eunpyeong-gu      1.0  37.6176125  126.9227004\n",
       "2       3.0  11230       동대문구  Dongdaemun-gu      2.0  37.5838012  127.0507003\n",
       "3       4.0  11590        동작구     Dongjak-gu      3.0  37.4965037  126.9443073\n",
       "4       5.0  11545        금천구   Geumcheon-gu      4.0  37.4600969  126.9001546"
      ]
     },
     "execution_count": 7,
     "metadata": {},
     "output_type": "execute_result"
    }
   ],
   "source": [
    "data_list = result_data['row']\n",
    "sample_df = pd.DataFrame(data_list)\n",
    "sample_df.head()"
   ]
  },
  {
   "cell_type": "code",
   "execution_count": 8,
   "metadata": {},
   "outputs": [],
   "source": [
    "# 서울열린데이터광장 OPEN API 호출을 위한 공통 함수\n",
    "def seoul_open_api_data(url, service):\n",
    "    data_list = []\n",
    "    try:\n",
    "        result_dict = requests.get(url).json()\n",
    "        result_data = result_dict[service]\n",
    "        code = result_data['RESULT']['CODE']\n",
    "        if code == 'INFO-000':\n",
    "            data_list = result_data['row']\n",
    "    except:  #noqa\n",
    "        pass\n",
    "    return data_list"
   ]
  },
  {
   "cell_type": "code",
   "execution_count": 9,
   "metadata": {},
   "outputs": [
    {
     "data": {
      "text/plain": [
       "{'OBJECTID': 1.0,\n",
       " 'SIG_CD': '11320',\n",
       " 'SIG_KOR_NM': '도봉구',\n",
       " 'SIG_ENG_NM': 'Dobong-gu',\n",
       " 'ESRI_PK': 0.0,\n",
       " 'LAT': '37.6658609',\n",
       " 'LNG': '127.0317674'}"
      ]
     },
     "execution_count": 9,
     "metadata": {},
     "output_type": "execute_result"
    }
   ],
   "source": [
    "sgg_url = f\"http://openapi.seoul.go.kr:8088/{SEOUL_API_AUTH_KEY}/json/SdeTlSccoSigW/1/25\"\n",
    "sgg_data_list = seoul_open_api_data(url, 'SdeTlSccoSigW')\n",
    "sgg_data_list[0]"
   ]
  },
  {
   "cell_type": "code",
   "execution_count": 10,
   "metadata": {},
   "outputs": [
    {
     "data": {
      "text/html": [
       "<div>\n",
       "<style scoped>\n",
       "    .dataframe tbody tr th:only-of-type {\n",
       "        vertical-align: middle;\n",
       "    }\n",
       "\n",
       "    .dataframe tbody tr th {\n",
       "        vertical-align: top;\n",
       "    }\n",
       "\n",
       "    .dataframe thead th {\n",
       "        text-align: right;\n",
       "    }\n",
       "</style>\n",
       "<table border=\"1\" class=\"dataframe\">\n",
       "  <thead>\n",
       "    <tr style=\"text-align: right;\">\n",
       "      <th></th>\n",
       "      <th>SIG_CD</th>\n",
       "      <th>SIG_KOR_NM</th>\n",
       "      <th>LAT</th>\n",
       "      <th>LNG</th>\n",
       "    </tr>\n",
       "  </thead>\n",
       "  <tbody>\n",
       "    <tr>\n",
       "      <th>0</th>\n",
       "      <td>11320</td>\n",
       "      <td>도봉구</td>\n",
       "      <td>37.6658609</td>\n",
       "      <td>127.0317674</td>\n",
       "    </tr>\n",
       "    <tr>\n",
       "      <th>1</th>\n",
       "      <td>11380</td>\n",
       "      <td>은평구</td>\n",
       "      <td>37.6176125</td>\n",
       "      <td>126.9227004</td>\n",
       "    </tr>\n",
       "    <tr>\n",
       "      <th>2</th>\n",
       "      <td>11230</td>\n",
       "      <td>동대문구</td>\n",
       "      <td>37.5838012</td>\n",
       "      <td>127.0507003</td>\n",
       "    </tr>\n",
       "    <tr>\n",
       "      <th>3</th>\n",
       "      <td>11590</td>\n",
       "      <td>동작구</td>\n",
       "      <td>37.4965037</td>\n",
       "      <td>126.9443073</td>\n",
       "    </tr>\n",
       "    <tr>\n",
       "      <th>4</th>\n",
       "      <td>11545</td>\n",
       "      <td>금천구</td>\n",
       "      <td>37.4600969</td>\n",
       "      <td>126.9001546</td>\n",
       "    </tr>\n",
       "  </tbody>\n",
       "</table>\n",
       "</div>"
      ],
      "text/plain": [
       "  SIG_CD SIG_KOR_NM         LAT          LNG\n",
       "0  11320        도봉구  37.6658609  127.0317674\n",
       "1  11380        은평구  37.6176125  126.9227004\n",
       "2  11230       동대문구  37.5838012  127.0507003\n",
       "3  11590        동작구  37.4965037  126.9443073\n",
       "4  11545        금천구  37.4600969  126.9001546"
      ]
     },
     "execution_count": 10,
     "metadata": {},
     "output_type": "execute_result"
    }
   ],
   "source": [
    "columns = ['SIG_CD', 'SIG_KOR_NM', 'LAT', 'LNG']\n",
    "sgg_df = pd.DataFrame(sgg_data_list, columns=columns)\n",
    "sgg_df.head()"
   ]
  },
  {
   "cell_type": "code",
   "execution_count": 11,
   "metadata": {},
   "outputs": [
    {
     "data": {
      "text/html": [
       "<div>\n",
       "<style scoped>\n",
       "    .dataframe tbody tr th:only-of-type {\n",
       "        vertical-align: middle;\n",
       "    }\n",
       "\n",
       "    .dataframe tbody tr th {\n",
       "        vertical-align: top;\n",
       "    }\n",
       "\n",
       "    .dataframe thead th {\n",
       "        text-align: right;\n",
       "    }\n",
       "</style>\n",
       "<table border=\"1\" class=\"dataframe\">\n",
       "  <thead>\n",
       "    <tr style=\"text-align: right;\">\n",
       "      <th></th>\n",
       "      <th>시군구코드</th>\n",
       "      <th>시군구명</th>\n",
       "      <th>위도</th>\n",
       "      <th>경도</th>\n",
       "    </tr>\n",
       "  </thead>\n",
       "  <tbody>\n",
       "    <tr>\n",
       "      <th>0</th>\n",
       "      <td>11320</td>\n",
       "      <td>도봉구</td>\n",
       "      <td>37.6658609</td>\n",
       "      <td>127.0317674</td>\n",
       "    </tr>\n",
       "    <tr>\n",
       "      <th>1</th>\n",
       "      <td>11380</td>\n",
       "      <td>은평구</td>\n",
       "      <td>37.6176125</td>\n",
       "      <td>126.9227004</td>\n",
       "    </tr>\n",
       "    <tr>\n",
       "      <th>2</th>\n",
       "      <td>11230</td>\n",
       "      <td>동대문구</td>\n",
       "      <td>37.5838012</td>\n",
       "      <td>127.0507003</td>\n",
       "    </tr>\n",
       "    <tr>\n",
       "      <th>3</th>\n",
       "      <td>11590</td>\n",
       "      <td>동작구</td>\n",
       "      <td>37.4965037</td>\n",
       "      <td>126.9443073</td>\n",
       "    </tr>\n",
       "    <tr>\n",
       "      <th>4</th>\n",
       "      <td>11545</td>\n",
       "      <td>금천구</td>\n",
       "      <td>37.4600969</td>\n",
       "      <td>126.9001546</td>\n",
       "    </tr>\n",
       "  </tbody>\n",
       "</table>\n",
       "</div>"
      ],
      "text/plain": [
       "   시군구코드  시군구명          위도           경도\n",
       "0  11320   도봉구  37.6658609  127.0317674\n",
       "1  11380   은평구  37.6176125  126.9227004\n",
       "2  11230  동대문구  37.5838012  127.0507003\n",
       "3  11590   동작구  37.4965037  126.9443073\n",
       "4  11545   금천구  37.4600969  126.9001546"
      ]
     },
     "execution_count": 11,
     "metadata": {},
     "output_type": "execute_result"
    }
   ],
   "source": [
    "sgg_df.columns = ['시군구코드', '시군구명', '위도', '경도']\n",
    "sgg_df.head()"
   ]
  },
  {
   "cell_type": "code",
   "execution_count": 12,
   "metadata": {},
   "outputs": [
    {
     "name": "stdout",
     "output_type": "stream",
     "text": [
      "<class 'pandas.core.frame.DataFrame'>\n",
      "RangeIndex: 25 entries, 0 to 24\n",
      "Data columns (total 4 columns):\n",
      " #   Column  Non-Null Count  Dtype \n",
      "---  ------  --------------  ----- \n",
      " 0   시군구코드   25 non-null     object\n",
      " 1   시군구명    25 non-null     object\n",
      " 2   위도      25 non-null     object\n",
      " 3   경도      25 non-null     object\n",
      "dtypes: object(4)\n",
      "memory usage: 928.0+ bytes\n"
     ]
    }
   ],
   "source": [
    "sgg_df.info()"
   ]
  },
  {
   "cell_type": "code",
   "execution_count": 13,
   "metadata": {},
   "outputs": [],
   "source": [
    "sgg_df.to_excel('./files/seoul_sgg_list.xlsx', index=False)"
   ]
  },
  {
   "cell_type": "code",
   "execution_count": 16,
   "metadata": {},
   "outputs": [
    {
     "name": "stdout",
     "output_type": "stream",
     "text": [
      "0\n"
     ]
    }
   ],
   "source": [
    "pop_url = f\"http://openapi.seoul.go.kr:8088/{SEOUL_API_AUTH_KEY}/json/octastatapi419/1/26\"\n",
    "pop_data_list = seoul_open_api_data(pop_url, 'octastatapi419')\n",
    "print(len(pop_data_list))\n",
    "\n",
    "sgg_pop_df = pd.DataFrame(data = pop_data_list)"
   ]
  },
  {
   "cell_type": "code",
   "execution_count": 15,
   "metadata": {},
   "outputs": [
    {
     "data": {
      "text/html": [
       "<div>\n",
       "<style scoped>\n",
       "    .dataframe tbody tr th:only-of-type {\n",
       "        vertical-align: middle;\n",
       "    }\n",
       "\n",
       "    .dataframe tbody tr th {\n",
       "        vertical-align: top;\n",
       "    }\n",
       "\n",
       "    .dataframe thead th {\n",
       "        text-align: right;\n",
       "    }\n",
       "</style>\n",
       "<table border=\"1\" class=\"dataframe\">\n",
       "  <thead>\n",
       "    <tr style=\"text-align: right;\">\n",
       "      <th></th>\n",
       "    </tr>\n",
       "  </thead>\n",
       "  <tbody>\n",
       "  </tbody>\n",
       "</table>\n",
       "</div>"
      ],
      "text/plain": [
       "Empty DataFrame\n",
       "Columns: []\n",
       "Index: []"
      ]
     },
     "execution_count": 15,
     "metadata": {},
     "output_type": "execute_result"
    }
   ],
   "source": [
    "sgg_pop_df.head()"
   ]
  },
  {
   "cell_type": "markdown",
   "metadata": {},
   "source": [
    "2020.07.31 부터 서울시 주민등록인구 open api 가 종료\\\n",
    "txt를내려받는 것으로 대체"
   ]
  },
  {
   "cell_type": "code",
   "execution_count": 17,
   "metadata": {},
   "outputs": [
    {
     "data": {
      "text/html": [
       "<div>\n",
       "<style scoped>\n",
       "    .dataframe tbody tr th:only-of-type {\n",
       "        vertical-align: middle;\n",
       "    }\n",
       "\n",
       "    .dataframe tbody tr th {\n",
       "        vertical-align: top;\n",
       "    }\n",
       "\n",
       "    .dataframe thead th {\n",
       "        text-align: right;\n",
       "    }\n",
       "</style>\n",
       "<table border=\"1\" class=\"dataframe\">\n",
       "  <thead>\n",
       "    <tr style=\"text-align: right;\">\n",
       "      <th></th>\n",
       "      <th>기간</th>\n",
       "      <th>자치구</th>\n",
       "      <th>세대</th>\n",
       "      <th>인구</th>\n",
       "      <th>인구.1</th>\n",
       "      <th>인구.2</th>\n",
       "      <th>인구.3</th>\n",
       "      <th>인구.4</th>\n",
       "      <th>인구.5</th>\n",
       "      <th>인구.6</th>\n",
       "      <th>인구.7</th>\n",
       "      <th>인구.8</th>\n",
       "      <th>세대당인구</th>\n",
       "      <th>65세이상고령자</th>\n",
       "    </tr>\n",
       "  </thead>\n",
       "  <tbody>\n",
       "    <tr>\n",
       "      <th>0</th>\n",
       "      <td>기간</td>\n",
       "      <td>자치구</td>\n",
       "      <td>세대</td>\n",
       "      <td>합계</td>\n",
       "      <td>합계</td>\n",
       "      <td>합계</td>\n",
       "      <td>한국인</td>\n",
       "      <td>한국인</td>\n",
       "      <td>한국인</td>\n",
       "      <td>등록외국인</td>\n",
       "      <td>등록외국인</td>\n",
       "      <td>등록외국인</td>\n",
       "      <td>세대당인구</td>\n",
       "      <td>65세이상고령자</td>\n",
       "    </tr>\n",
       "    <tr>\n",
       "      <th>1</th>\n",
       "      <td>기간</td>\n",
       "      <td>자치구</td>\n",
       "      <td>세대</td>\n",
       "      <td>계</td>\n",
       "      <td>남자</td>\n",
       "      <td>여자</td>\n",
       "      <td>계</td>\n",
       "      <td>남자</td>\n",
       "      <td>여자</td>\n",
       "      <td>계</td>\n",
       "      <td>남자</td>\n",
       "      <td>여자</td>\n",
       "      <td>세대당인구</td>\n",
       "      <td>65세이상고령자</td>\n",
       "    </tr>\n",
       "    <tr>\n",
       "      <th>2</th>\n",
       "      <td>2020.3/4</td>\n",
       "      <td>합계</td>\n",
       "      <td>4,405,833</td>\n",
       "      <td>9,953,009</td>\n",
       "      <td>4,840,912</td>\n",
       "      <td>5,112,097</td>\n",
       "      <td>9,699,232</td>\n",
       "      <td>4,719,170</td>\n",
       "      <td>4,980,062</td>\n",
       "      <td>253,777</td>\n",
       "      <td>121,742</td>\n",
       "      <td>132,035</td>\n",
       "      <td>2.2</td>\n",
       "      <td>1,552,356</td>\n",
       "    </tr>\n",
       "    <tr>\n",
       "      <th>3</th>\n",
       "      <td>2020.3/4</td>\n",
       "      <td>종로구</td>\n",
       "      <td>74,861</td>\n",
       "      <td>159,842</td>\n",
       "      <td>77,391</td>\n",
       "      <td>82,451</td>\n",
       "      <td>149,952</td>\n",
       "      <td>73,024</td>\n",
       "      <td>76,928</td>\n",
       "      <td>9,890</td>\n",
       "      <td>4,367</td>\n",
       "      <td>5,523</td>\n",
       "      <td>2</td>\n",
       "      <td>28,396</td>\n",
       "    </tr>\n",
       "    <tr>\n",
       "      <th>4</th>\n",
       "      <td>2020.3/4</td>\n",
       "      <td>중구</td>\n",
       "      <td>63,594</td>\n",
       "      <td>135,321</td>\n",
       "      <td>66,193</td>\n",
       "      <td>69,128</td>\n",
       "      <td>125,800</td>\n",
       "      <td>61,526</td>\n",
       "      <td>64,274</td>\n",
       "      <td>9,521</td>\n",
       "      <td>4,667</td>\n",
       "      <td>4,854</td>\n",
       "      <td>1.98</td>\n",
       "      <td>24,265</td>\n",
       "    </tr>\n",
       "  </tbody>\n",
       "</table>\n",
       "</div>"
      ],
      "text/plain": [
       "         기간  자치구         세대         인구       인구.1       인구.2       인구.3  \\\n",
       "0        기간  자치구         세대         합계         합계         합계        한국인   \n",
       "1        기간  자치구         세대          계         남자         여자          계   \n",
       "2  2020.3/4   합계  4,405,833  9,953,009  4,840,912  5,112,097  9,699,232   \n",
       "3  2020.3/4  종로구     74,861    159,842     77,391     82,451    149,952   \n",
       "4  2020.3/4   중구     63,594    135,321     66,193     69,128    125,800   \n",
       "\n",
       "        인구.4       인구.5     인구.6     인구.7     인구.8  세대당인구   65세이상고령자  \n",
       "0        한국인        한국인    등록외국인    등록외국인    등록외국인  세대당인구   65세이상고령자  \n",
       "1         남자         여자        계       남자       여자  세대당인구   65세이상고령자  \n",
       "2  4,719,170  4,980,062  253,777  121,742  132,035    2.2  1,552,356  \n",
       "3     73,024     76,928    9,890    4,367    5,523      2     28,396  \n",
       "4     61,526     64,274    9,521    4,667    4,854   1.98     24,265  "
      ]
     },
     "execution_count": 17,
     "metadata": {},
     "output_type": "execute_result"
    }
   ],
   "source": [
    "sgg_pop_df = pd.read_csv('./files/report.txt', sep='\\t')\n",
    "sgg_pop_df.head()"
   ]
  },
  {
   "cell_type": "code",
   "execution_count": 18,
   "metadata": {},
   "outputs": [
    {
     "name": "stdout",
     "output_type": "stream",
     "text": [
      "<class 'pandas.core.frame.DataFrame'>\n",
      "RangeIndex: 28 entries, 0 to 27\n",
      "Data columns (total 14 columns):\n",
      " #   Column    Non-Null Count  Dtype \n",
      "---  ------    --------------  ----- \n",
      " 0   기간        28 non-null     object\n",
      " 1   자치구       28 non-null     object\n",
      " 2   세대        28 non-null     object\n",
      " 3   인구        28 non-null     object\n",
      " 4   인구.1      28 non-null     object\n",
      " 5   인구.2      28 non-null     object\n",
      " 6   인구.3      28 non-null     object\n",
      " 7   인구.4      28 non-null     object\n",
      " 8   인구.5      28 non-null     object\n",
      " 9   인구.6      28 non-null     object\n",
      " 10  인구.7      28 non-null     object\n",
      " 11  인구.8      28 non-null     object\n",
      " 12  세대당인구     28 non-null     object\n",
      " 13  65세이상고령자  28 non-null     object\n",
      "dtypes: object(14)\n",
      "memory usage: 3.2+ KB\n"
     ]
    }
   ],
   "source": [
    "sgg_pop_df.info()"
   ]
  },
  {
   "cell_type": "code",
   "execution_count": 22,
   "metadata": {},
   "outputs": [
    {
     "data": {
      "text/html": [
       "<div>\n",
       "<style scoped>\n",
       "    .dataframe tbody tr th:only-of-type {\n",
       "        vertical-align: middle;\n",
       "    }\n",
       "\n",
       "    .dataframe tbody tr th {\n",
       "        vertical-align: top;\n",
       "    }\n",
       "\n",
       "    .dataframe thead th {\n",
       "        text-align: right;\n",
       "    }\n",
       "</style>\n",
       "<table border=\"1\" class=\"dataframe\">\n",
       "  <thead>\n",
       "    <tr style=\"text-align: right;\">\n",
       "      <th></th>\n",
       "      <th>기간</th>\n",
       "      <th>자치구</th>\n",
       "      <th>세대</th>\n",
       "      <th>인구</th>\n",
       "      <th>인구.1</th>\n",
       "      <th>인구.2</th>\n",
       "      <th>인구.3</th>\n",
       "      <th>인구.4</th>\n",
       "      <th>인구.5</th>\n",
       "      <th>인구.6</th>\n",
       "      <th>인구.7</th>\n",
       "      <th>인구.8</th>\n",
       "      <th>세대당인구</th>\n",
       "      <th>65세이상고령자</th>\n",
       "    </tr>\n",
       "  </thead>\n",
       "  <tbody>\n",
       "    <tr>\n",
       "      <th>3</th>\n",
       "      <td>2020.3/4</td>\n",
       "      <td>종로구</td>\n",
       "      <td>74,861</td>\n",
       "      <td>159,842</td>\n",
       "      <td>77,391</td>\n",
       "      <td>82,451</td>\n",
       "      <td>149,952</td>\n",
       "      <td>73,024</td>\n",
       "      <td>76,928</td>\n",
       "      <td>9,890</td>\n",
       "      <td>4,367</td>\n",
       "      <td>5,523</td>\n",
       "      <td>2</td>\n",
       "      <td>28,396</td>\n",
       "    </tr>\n",
       "    <tr>\n",
       "      <th>4</th>\n",
       "      <td>2020.3/4</td>\n",
       "      <td>중구</td>\n",
       "      <td>63,594</td>\n",
       "      <td>135,321</td>\n",
       "      <td>66,193</td>\n",
       "      <td>69,128</td>\n",
       "      <td>125,800</td>\n",
       "      <td>61,526</td>\n",
       "      <td>64,274</td>\n",
       "      <td>9,521</td>\n",
       "      <td>4,667</td>\n",
       "      <td>4,854</td>\n",
       "      <td>1.98</td>\n",
       "      <td>24,265</td>\n",
       "    </tr>\n",
       "    <tr>\n",
       "      <th>5</th>\n",
       "      <td>2020.3/4</td>\n",
       "      <td>용산구</td>\n",
       "      <td>112,451</td>\n",
       "      <td>244,953</td>\n",
       "      <td>119,074</td>\n",
       "      <td>125,879</td>\n",
       "      <td>229,786</td>\n",
       "      <td>110,604</td>\n",
       "      <td>119,182</td>\n",
       "      <td>15,167</td>\n",
       "      <td>8,470</td>\n",
       "      <td>6,697</td>\n",
       "      <td>2.04</td>\n",
       "      <td>39,995</td>\n",
       "    </tr>\n",
       "    <tr>\n",
       "      <th>6</th>\n",
       "      <td>2020.3/4</td>\n",
       "      <td>성동구</td>\n",
       "      <td>136,096</td>\n",
       "      <td>302,695</td>\n",
       "      <td>147,582</td>\n",
       "      <td>155,113</td>\n",
       "      <td>295,591</td>\n",
       "      <td>144,444</td>\n",
       "      <td>151,147</td>\n",
       "      <td>7,104</td>\n",
       "      <td>3,138</td>\n",
       "      <td>3,966</td>\n",
       "      <td>2.17</td>\n",
       "      <td>45,372</td>\n",
       "    </tr>\n",
       "    <tr>\n",
       "      <th>7</th>\n",
       "      <td>2020.3/4</td>\n",
       "      <td>광진구</td>\n",
       "      <td>166,857</td>\n",
       "      <td>361,923</td>\n",
       "      <td>174,077</td>\n",
       "      <td>187,846</td>\n",
       "      <td>348,064</td>\n",
       "      <td>168,095</td>\n",
       "      <td>179,969</td>\n",
       "      <td>13,859</td>\n",
       "      <td>5,982</td>\n",
       "      <td>7,877</td>\n",
       "      <td>2.09</td>\n",
       "      <td>50,047</td>\n",
       "    </tr>\n",
       "  </tbody>\n",
       "</table>\n",
       "</div>"
      ],
      "text/plain": [
       "         기간  자치구       세대       인구     인구.1     인구.2     인구.3     인구.4  \\\n",
       "3  2020.3/4  종로구   74,861  159,842   77,391   82,451  149,952   73,024   \n",
       "4  2020.3/4   중구   63,594  135,321   66,193   69,128  125,800   61,526   \n",
       "5  2020.3/4  용산구  112,451  244,953  119,074  125,879  229,786  110,604   \n",
       "6  2020.3/4  성동구  136,096  302,695  147,582  155,113  295,591  144,444   \n",
       "7  2020.3/4  광진구  166,857  361,923  174,077  187,846  348,064  168,095   \n",
       "\n",
       "      인구.5    인구.6   인구.7   인구.8 세대당인구 65세이상고령자  \n",
       "3   76,928   9,890  4,367  5,523     2   28,396  \n",
       "4   64,274   9,521  4,667  4,854  1.98   24,265  \n",
       "5  119,182  15,167  8,470  6,697  2.04   39,995  \n",
       "6  151,147   7,104  3,138  3,966  2.17   45,372  \n",
       "7  179,969  13,859  5,982  7,877  2.09   50,047  "
      ]
     },
     "execution_count": 22,
     "metadata": {},
     "output_type": "execute_result"
    }
   ],
   "source": [
    "condition1 = sgg_pop_df['자치구'] != '합계'\n",
    "condition2 = sgg_pop_df['자치구'] != '자치구'\n",
    "sgg_pop_df_selected = sgg_pop_df[condition1 & condition2]\n",
    "sgg_pop_df_selected.head()"
   ]
  },
  {
   "cell_type": "code",
   "execution_count": 23,
   "metadata": {},
   "outputs": [
    {
     "name": "stdout",
     "output_type": "stream",
     "text": [
      "<class 'pandas.core.frame.DataFrame'>\n",
      "Int64Index: 25 entries, 3 to 27\n",
      "Data columns (total 14 columns):\n",
      " #   Column    Non-Null Count  Dtype \n",
      "---  ------    --------------  ----- \n",
      " 0   기간        25 non-null     object\n",
      " 1   자치구       25 non-null     object\n",
      " 2   세대        25 non-null     object\n",
      " 3   인구        25 non-null     object\n",
      " 4   인구.1      25 non-null     object\n",
      " 5   인구.2      25 non-null     object\n",
      " 6   인구.3      25 non-null     object\n",
      " 7   인구.4      25 non-null     object\n",
      " 8   인구.5      25 non-null     object\n",
      " 9   인구.6      25 non-null     object\n",
      " 10  인구.7      25 non-null     object\n",
      " 11  인구.8      25 non-null     object\n",
      " 12  세대당인구     25 non-null     object\n",
      " 13  65세이상고령자  25 non-null     object\n",
      "dtypes: object(14)\n",
      "memory usage: 2.9+ KB\n"
     ]
    }
   ],
   "source": [
    "sgg_pop_df_selected.info()"
   ]
  },
  {
   "cell_type": "code",
   "execution_count": 24,
   "metadata": {},
   "outputs": [
    {
     "data": {
      "text/html": [
       "<div>\n",
       "<style scoped>\n",
       "    .dataframe tbody tr th:only-of-type {\n",
       "        vertical-align: middle;\n",
       "    }\n",
       "\n",
       "    .dataframe tbody tr th {\n",
       "        vertical-align: top;\n",
       "    }\n",
       "\n",
       "    .dataframe thead th {\n",
       "        text-align: right;\n",
       "    }\n",
       "</style>\n",
       "<table border=\"1\" class=\"dataframe\">\n",
       "  <thead>\n",
       "    <tr style=\"text-align: right;\">\n",
       "      <th></th>\n",
       "      <th>자치구</th>\n",
       "      <th>인구</th>\n",
       "    </tr>\n",
       "  </thead>\n",
       "  <tbody>\n",
       "    <tr>\n",
       "      <th>3</th>\n",
       "      <td>종로구</td>\n",
       "      <td>159,842</td>\n",
       "    </tr>\n",
       "    <tr>\n",
       "      <th>4</th>\n",
       "      <td>중구</td>\n",
       "      <td>135,321</td>\n",
       "    </tr>\n",
       "    <tr>\n",
       "      <th>5</th>\n",
       "      <td>용산구</td>\n",
       "      <td>244,953</td>\n",
       "    </tr>\n",
       "    <tr>\n",
       "      <th>6</th>\n",
       "      <td>성동구</td>\n",
       "      <td>302,695</td>\n",
       "    </tr>\n",
       "    <tr>\n",
       "      <th>7</th>\n",
       "      <td>광진구</td>\n",
       "      <td>361,923</td>\n",
       "    </tr>\n",
       "  </tbody>\n",
       "</table>\n",
       "</div>"
      ],
      "text/plain": [
       "   자치구       인구\n",
       "3  종로구  159,842\n",
       "4   중구  135,321\n",
       "5  용산구  244,953\n",
       "6  성동구  302,695\n",
       "7  광진구  361,923"
      ]
     },
     "execution_count": 24,
     "metadata": {},
     "output_type": "execute_result"
    }
   ],
   "source": [
    "columns = ['자치구', '인구']\n",
    "sgg_pop_df_final = sgg_pop_df_selected[columns]\n",
    "sgg_pop_df_final.head()"
   ]
  },
  {
   "cell_type": "code",
   "execution_count": 25,
   "metadata": {},
   "outputs": [
    {
     "data": {
      "text/html": [
       "<div>\n",
       "<style scoped>\n",
       "    .dataframe tbody tr th:only-of-type {\n",
       "        vertical-align: middle;\n",
       "    }\n",
       "\n",
       "    .dataframe tbody tr th {\n",
       "        vertical-align: top;\n",
       "    }\n",
       "\n",
       "    .dataframe thead th {\n",
       "        text-align: right;\n",
       "    }\n",
       "</style>\n",
       "<table border=\"1\" class=\"dataframe\">\n",
       "  <thead>\n",
       "    <tr style=\"text-align: right;\">\n",
       "      <th></th>\n",
       "      <th>시군구명</th>\n",
       "      <th>주민등록인구</th>\n",
       "    </tr>\n",
       "  </thead>\n",
       "  <tbody>\n",
       "    <tr>\n",
       "      <th>3</th>\n",
       "      <td>종로구</td>\n",
       "      <td>159,842</td>\n",
       "    </tr>\n",
       "    <tr>\n",
       "      <th>4</th>\n",
       "      <td>중구</td>\n",
       "      <td>135,321</td>\n",
       "    </tr>\n",
       "    <tr>\n",
       "      <th>5</th>\n",
       "      <td>용산구</td>\n",
       "      <td>244,953</td>\n",
       "    </tr>\n",
       "    <tr>\n",
       "      <th>6</th>\n",
       "      <td>성동구</td>\n",
       "      <td>302,695</td>\n",
       "    </tr>\n",
       "    <tr>\n",
       "      <th>7</th>\n",
       "      <td>광진구</td>\n",
       "      <td>361,923</td>\n",
       "    </tr>\n",
       "  </tbody>\n",
       "</table>\n",
       "</div>"
      ],
      "text/plain": [
       "  시군구명   주민등록인구\n",
       "3  종로구  159,842\n",
       "4   중구  135,321\n",
       "5  용산구  244,953\n",
       "6  성동구  302,695\n",
       "7  광진구  361,923"
      ]
     },
     "execution_count": 25,
     "metadata": {},
     "output_type": "execute_result"
    }
   ],
   "source": [
    "sgg_pop_df_final.columns = ['시군구명', '주민등록인구']\n",
    "sgg_pop_df_final.head()"
   ]
  },
  {
   "cell_type": "code",
   "execution_count": 26,
   "metadata": {},
   "outputs": [],
   "source": [
    "sgg_pop_df_final.to_excel('./files/sgg_pop.xlsx', index=False)"
   ]
  },
  {
   "cell_type": "code",
   "execution_count": null,
   "metadata": {},
   "outputs": [],
   "source": []
  }
 ],
 "metadata": {
  "kernelspec": {
   "display_name": "Python 3",
   "language": "python",
   "name": "python3"
  },
  "language_info": {
   "codemirror_mode": {
    "name": "ipython",
    "version": 3
   },
   "file_extension": ".py",
   "mimetype": "text/x-python",
   "name": "python",
   "nbconvert_exporter": "python",
   "pygments_lexer": "ipython3",
   "version": "3.8.5"
  }
 },
 "nbformat": 4,
 "nbformat_minor": 4
}
