{
 "cells": [
  {
   "cell_type": "code",
   "execution_count": 3,
   "metadata": {},
   "outputs": [
    {
     "ename": "AttributeError",
     "evalue": "'WebDriver' object has no attribute 'find_element_by'",
     "output_type": "error",
     "traceback": [
      "\u001b[1;31m---------------------------------------------------------------------------\u001b[0m",
      "\u001b[1;31mAttributeError\u001b[0m                            Traceback (most recent call last)",
      "\u001b[1;32m<ipython-input-3-ec76470ad82e>\u001b[0m in \u001b[0;36m<module>\u001b[1;34m\u001b[0m\n\u001b[0;32m     27\u001b[0m \u001b[0mgubun_2_select\u001b[0m\u001b[1;33m.\u001b[0m\u001b[0mselect_by_value\u001b[0m\u001b[1;33m(\u001b[0m\u001b[1;34m'2'\u001b[0m\u001b[1;33m)\u001b[0m\u001b[1;33m\u001b[0m\u001b[1;33m\u001b[0m\u001b[0m\n\u001b[0;32m     28\u001b[0m \u001b[1;33m\u001b[0m\u001b[0m\n\u001b[1;32m---> 29\u001b[1;33m \u001b[0myear\u001b[0m \u001b[1;33m=\u001b[0m \u001b[0mdriver\u001b[0m\u001b[1;33m.\u001b[0m\u001b[0mfind_element_by\u001b[0m\u001b[1;33m\u001b[0m\u001b[1;33m\u001b[0m\u001b[0m\n\u001b[0m",
      "\u001b[1;31mAttributeError\u001b[0m: 'WebDriver' object has no attribute 'find_element_by'"
     ]
    }
   ],
   "source": [
    "# data from https://kto.visitkorea.or.kr/kor/notice/data/statis/profit/notice/inout/popup.kto\n",
    "# 2010.11 ~ 2020.11\n",
    "\n",
    "from selenium import webdriver\n",
    "from selenium.webdriver.support.ui import Select\n",
    "import time\n",
    "\n",
    "\n",
    "driver = webdriver.Chrome('C:/Users/gram/Downloads/chromedriver_win32/chromedriver.exe')\n",
    "\n",
    "url = 'https://kto.visitkorea.or.kr/kor/notice/data/statis/profit/notice/inout/popup.kto'\n",
    "driver.get(url)\n",
    "time.sleep(3)\n",
    "\n",
    "start_year = 2010\n",
    "end_year = 2020\n",
    "months = [1, 2, 3, 4, 5, 6, 7, 8, 9, 10, 11, 12]\n",
    "\n",
    "gubun_1 = driver.find_element_by_id('gubun_1')\n",
    "gubun_1_select = Select(gubun_1)\n",
    "gubun_1_select.select_by_value('2')\n",
    "\n",
    "gubun_2 = driver.find_element_by_id('gubun_2')\n",
    "gubun_2_select = Select(gubun_2)\n",
    "gubun_2_select.select_by_value('2')\n",
    "\n",
    "for yyyy in range(start_year, end_year + 1):\n",
    "    year = driver.find_element_by_id('yyyy')\n",
    "    year_select = Select(year)\n",
    "    year_select.select_by_value(yyyy)\n",
    "    \n",
    "    for mm in range(months):\n",
    "        if yyyy == 2020 and mm == 11:\n",
    "            pass\n",
    "        elif yyyy == 2020 and mm == 12:\n",
    "            pass\n",
    "        month = driver.find_element_by_id('mm')\n",
    "        month_select = Select(month)\n",
    "        month_select.select_by_value(mm)"
   ]
  },
  {
   "cell_type": "code",
   "execution_count": null,
   "metadata": {},
   "outputs": [],
   "source": []
  }
 ],
 "metadata": {
  "kernelspec": {
   "display_name": "Python 3",
   "language": "python",
   "name": "python3"
  },
  "language_info": {
   "codemirror_mode": {
    "name": "ipython",
    "version": 3
   },
   "file_extension": ".py",
   "mimetype": "text/x-python",
   "name": "python",
   "nbconvert_exporter": "python",
   "pygments_lexer": "ipython3",
   "version": "3.8.5"
  }
 },
 "nbformat": 4,
 "nbformat_minor": 4
}
