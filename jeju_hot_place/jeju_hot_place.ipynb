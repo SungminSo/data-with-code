{
 "cells": [
  {
   "cell_type": "code",
   "execution_count": 3,
   "metadata": {},
   "outputs": [],
   "source": [
    "def insta_searching(word: str) -> str:\n",
    "    \"\"\"인스타그램의 검색 결과 URL을 만드는 함수\"\"\"\n",
    "    url = f'https://www.instagram.com/explore/tags/{word}'\n",
    "    return url"
   ]
  },
  {
   "cell_type": "code",
   "execution_count": 57,
   "metadata": {},
   "outputs": [],
   "source": [
    "from selenium import webdriver\n",
    "\n",
    "import time\n",
    "\n",
    "driver = webdriver.Chrome('C:/Users/gram/Downloads/chromedriver_win32/chromedriver.exe')\n",
    "\n",
    "url = insta_searching('제주도맛집')\n",
    "driver.get(url)\n",
    "time.sleep(2)"
   ]
  },
  {
   "cell_type": "code",
   "execution_count": 59,
   "metadata": {},
   "outputs": [],
   "source": [
    "# 인스타 로그인을 해야 게시글을 볼 수 있음\n",
    "\n",
    "def insta_login(driver):\n",
    "    with open(\"./user.txt\", \"r\") as f:\n",
    "        email = f.readline()\n",
    "        password = f.readline()\n",
    "        time.sleep(2)\n",
    "\n",
    "        try:\n",
    "            login = driver.find_element_by_css_selector('button.sqdOP.L3NKy.y3zKF')\n",
    "            login.click()\n",
    "            time.sleep(2)\n",
    "        except: # noqa\n",
    "            pass\n",
    "\n",
    "        facebook_login = driver.find_element_by_css_selector('button.sqdOP.yWX7d.y3zKF')\n",
    "        facebook_login.click()\n",
    "        time.sleep(2)\n",
    "\n",
    "        input_id = driver.find_element_by_id('email')\n",
    "        input_id.clear()\n",
    "        input_id.send_keys(email)\n",
    "        time.sleep(2)\n",
    "\n",
    "        input_pw = driver.find_element_by_id('pass')\n",
    "        input_pw.clear()\n",
    "        input_pw.send_keys(password)\n",
    "        input_pw.submit()\n",
    "        time.sleep(5)\n",
    "        \n",
    "        try:\n",
    "            account = driver.find_element_by_css_selector('button.sqdOP.L3NKy.y3zKF')\n",
    "            account.click()\n",
    "            time.sleep(3)\n",
    "        except:  # noqa\n",
    "            pass"
   ]
  },
  {
   "cell_type": "code",
   "execution_count": 28,
   "metadata": {},
   "outputs": [],
   "source": [
    "def select_first(driver):\n",
    "    first = driver.find_element_by_css_selector('div._9AhH0')\n",
    "    first.click()\n",
    "    time.sleep(3)\n",
    "    \n",
    "select_first(driver)"
   ]
  },
  {
   "cell_type": "code",
   "execution_count": 29,
   "metadata": {},
   "outputs": [
    {
     "data": {
      "text/plain": [
       "{'content': '숙성고기의 끝판왕제주육대표 최상급 한우와제주 흑돼지를진공 포장하여 1.5도 물에504시간 동안 숙성시켜서더욱 부드럽고 감칠맛이 풍부한고기를 경험해보세요♥<제주육대표>＊제주시 일주서로 7895＊064-747-0092#제주도맛집#제주공항근처맛집#제주시맛집#제주흑돼지맛집#제주도흑돼지맛집#제주도맛집베스트#제주도맛집투어 #제주도맛집여행#제주도맛집지도#제주맛집찾기',\n",
       " 'date': '2021-01-01',\n",
       " 'like': 0,\n",
       " 'watch': '2,790',\n",
       " 'place': ''}"
      ]
     },
     "execution_count": 29,
     "metadata": {},
     "output_type": "execute_result"
    }
   ],
   "source": [
    "from bs4 import BeautifulSoup\n",
    "\n",
    "import re\n",
    "import unicodedata\n",
    "\n",
    "def get_content(driver):\n",
    "    time.sleep(2)\n",
    "    \n",
    "    # 현재 페이지 HRML 정보 가져오기\n",
    "    html = driver.page_source\n",
    "    soup = BeautifulSoup(html, 'html.parser')\n",
    "\n",
    "    # 본문 내용 가져오기\n",
    "    try:\n",
    "        content = soup.select('div.C4VMK > span')[0].text\n",
    "    except: # noqa\n",
    "        content = ''\n",
    "\n",
    "    # 본문에서 해시태그 가져오기\n",
    "    tags = re.findall(r'#[^/s#,\\\\]+', content)\n",
    "\n",
    "    # 작성일자 가져오기\n",
    "    date = soup.select('time.FH9sR.Nzb55')[0]['datetime'][:10]\n",
    "\n",
    "    # 좋아요 수 가져오기\n",
    "    try:\n",
    "        like = soup.select('div.Nm9Fw > button')[0].text[4:-1]\n",
    "    except: # noqa\n",
    "        like = 0\n",
    "\n",
    "    # 조회 수 가져오기\n",
    "    try:\n",
    "        watch = soup.select('div.HbPOm._9Ytll > span')[0].text[3:-1]\n",
    "    except: # noaq\n",
    "        watch = 0\n",
    "\n",
    "    # 위치 정보 가져오기\n",
    "    try:\n",
    "        place = soup.select('div.M30cS')[0].text\n",
    "        place = unicodedata.normalize('NFC', place)\n",
    "    except: # noqa\n",
    "        place = ''\n",
    "\n",
    "    # 수집한 정보 저장\n",
    "    data = {'content': content, 'date': date, 'like': like, 'watch': watch, 'place': place}\n",
    "    return data\n",
    "\n",
    "get_content(driver)"
   ]
  },
  {
   "cell_type": "code",
   "execution_count": 33,
   "metadata": {},
   "outputs": [],
   "source": [
    "def move_to_next(driver):\n",
    "    right = driver.find_element_by_css_selector('a._65Bje.coreSpriteRightPaginationArrow')\n",
    "    right.click()\n",
    "    time.sleep(3)\n",
    "    \n",
    "move_to_next(driver)"
   ]
  },
  {
   "cell_type": "code",
   "execution_count": 60,
   "metadata": {},
   "outputs": [
    {
     "name": "stdout",
     "output_type": "stream",
     "text": [
      "[{'content': '숙성고기의 끝판왕제주육대표 최상급 한우와제주 흑돼지를진공 포장하여 1.5도 물에504시간 동안 숙성시켜서더욱 부드럽고 감칠맛이 풍부한고기를 경험해보세요♥<제주육대표>＊제주시 일주서로 7895＊064-747-0092#제주도맛집#제주공항근처맛집#제주시맛집#제주흑돼지맛집#제주도흑돼지맛집#제주도맛집베스트#제주도맛집투어 #제주도맛집여행#제주도맛집지도#제주맛집찾기', 'date': '2021-01-01', 'like': 0, 'watch': '2,810', 'place': ''}, {'content': '비주얼 그대로의 두툼한 흑돼지입니다⠀화산암반수를 먹인무항생제의 제주 흑돼지!품질을 인정받아 백화점에도납품하고 있는 흑돼지입니다🐷🐽⠀흑돼지를 편히 드시도록초벌까지는 저희가 작업을해드리고 있습니다.⠀또한 유아(7세이하) 상차림비는받고 있지 않으니가족여행에서 가족식사로도저렴하게 드실 수 있습니다🥰⠀탐나돈정육점식당▪제주 서귀포시 중문관광로 321▪매일 11:00 - 23:30▪064-738-8700▪010-3640-8833▪단체석,주차#중문맛집 #서귀포맛집#제주맛집 #제주도맛집#제주중문맛집#중문관광단지맛집 #제주도중문맛집 #중문카페 #서귀포카페 #서귀포가볼만한곳', 'date': '2020-12-31', 'like': 0, 'watch': '4,803', 'place': ''}]\n"
     ]
    }
   ],
   "source": [
    "# 인스타그램 크롤링 전체 과정\n",
    "\n",
    "from selenium import webdriver\n",
    "from bs4 import BeautifulSoup\n",
    "\n",
    "import re\n",
    "import time\n",
    "import unicodedata\n",
    "\n",
    "# 크롬 브라우저 열기\n",
    "driver = webdriver.Chrome('C:/Users/gram/Downloads/chromedriver_win32/chromedriver.exe')\n",
    "\n",
    "# 인스타그램 접속\n",
    "url = insta_searching('제주도맛집')\n",
    "driver.get(url)\n",
    "time.sleep(2)\n",
    "\n",
    "# 게시글 조회를 위한 인스타그램 로그인\n",
    "insta_login(driver)\n",
    "\n",
    "# 인스타그램 검색\n",
    "url = insta_searching('제주도맛집')\n",
    "driver.get(url)\n",
    "time.sleep(2)\n",
    "\n",
    "# 첫 번째 게시글 조회\n",
    "select_first(driver)\n",
    "\n",
    "results = []\n",
    "\n",
    "target = 200  # 크롤링할 게시글 수\n",
    "for i in range(target):\n",
    "    data = get_content(driver)\n",
    "    results.append(data)\n",
    "    move_to_next(driver)\n",
    "    \n",
    "print(results[:2])"
   ]
  },
  {
   "cell_type": "code",
   "execution_count": null,
   "metadata": {},
   "outputs": [],
   "source": []
  }
 ],
 "metadata": {
  "kernelspec": {
   "display_name": "Python 3",
   "language": "python",
   "name": "python3"
  },
  "language_info": {
   "codemirror_mode": {
    "name": "ipython",
    "version": 3
   },
   "file_extension": ".py",
   "mimetype": "text/x-python",
   "name": "python",
   "nbconvert_exporter": "python",
   "pygments_lexer": "ipython3",
   "version": "3.8.5"
  }
 },
 "nbformat": 4,
 "nbformat_minor": 4
}
