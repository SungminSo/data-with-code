{
 "cells": [
  {
   "cell_type": "code",
   "execution_count": 3,
   "metadata": {},
   "outputs": [],
   "source": [
    "def insta_searching(word: str) -> str:\n",
    "    \"\"\"인스타그램의 검색 결과 URL을 만드는 함수\"\"\"\n",
    "    url = f'https://www.instagram.com/explore/tags/{word}'\n",
    "    return url"
   ]
  },
  {
   "cell_type": "code",
   "execution_count": 7,
   "metadata": {},
   "outputs": [],
   "source": [
    "from selenium import webdriver\n",
    "\n",
    "import time\n",
    "\n",
    "driver = webdriver.Chrome('C:/Users/gram/Downloads/chromedriver_win32/chromedriver.exe')\n",
    "\n",
    "url = insta_searching('제주도맛집')\n",
    "driver.get(url)\n",
    "time.sleep(2)"
   ]
  },
  {
   "cell_type": "code",
   "execution_count": 14,
   "metadata": {},
   "outputs": [],
   "source": [
    "# 인스타 로그인을 해야 게시글을 볼 수 있음\n",
    "\n",
    "with open(\"./user.txt\", \"r\") as f:\n",
    "    email = f.readline()\n",
    "    password = f.readline()\n",
    "\n",
    "    login = driver.find_element_by_css_selector('button.sqdOP.L3NKy.y3zKF')\n",
    "    login.click()\n",
    "    time.sleep(2)\n",
    "    \n",
    "    facebook_login = driver.find_element_by_css_selector('button.sqdOP.yWX7d.y3zKF')\n",
    "    facebook_login.click()\n",
    "    time.sleep(2)\n",
    "    \n",
    "    input_id = driver.find_element_by_id('email')\n",
    "    input_id.clear()\n",
    "    input_id.send_keys(email)\n",
    "    time.sleep(2)\n",
    "\n",
    "    input_pw = driver.find_element_by_id('pass')\n",
    "    input_pw.clear()\n",
    "    input_pw.send_keys(password)\n",
    "    input_pw.submit()\n",
    "    time.sleep(3)"
   ]
  },
  {
   "cell_type": "code",
   "execution_count": null,
   "metadata": {},
   "outputs": [],
   "source": [
    "import time\n",
    "\n",
    "def select_first(driver):\n",
    "    first = driver.find_element_by_css_selector('div._9AhH0')\n",
    "    first.click()\n",
    "    time.sleep(3)"
   ]
  }
 ],
 "metadata": {
  "kernelspec": {
   "display_name": "Python 3",
   "language": "python",
   "name": "python3"
  },
  "language_info": {
   "codemirror_mode": {
    "name": "ipython",
    "version": 3
   },
   "file_extension": ".py",
   "mimetype": "text/x-python",
   "name": "python",
   "nbconvert_exporter": "python",
   "pygments_lexer": "ipython3",
   "version": "3.8.5"
  }
 },
 "nbformat": 4,
 "nbformat_minor": 4
}
