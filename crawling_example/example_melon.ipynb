{
 "cells": [
  {
   "cell_type": "code",
   "execution_count": 1,
   "metadata": {},
   "outputs": [],
   "source": [
    "from selenium import webdriver\n",
    "driver = webdriver.Chrome('C:/Users/gram/Downloads/chromedriver_win32/chromedriver.exe')"
   ]
  },
  {
   "cell_type": "code",
   "execution_count": 4,
   "metadata": {},
   "outputs": [],
   "source": [
    "url = 'http://www.melon.com/chart/index.htm'\n",
    "driver.get(url)"
   ]
  },
  {
   "cell_type": "code",
   "execution_count": 5,
   "metadata": {},
   "outputs": [],
   "source": [
    "from bs4 import BeautifulSoup\n",
    "\n",
    "html = driver.page_source\n",
    "soup = BeautifulSoup(html, 'html.parser')"
   ]
  },
  {
   "cell_type": "code",
   "execution_count": 10,
   "metadata": {},
   "outputs": [
    {
     "name": "stdout",
     "output_type": "stream",
     "text": [
      "100\n",
      "<tr data-song-no=\"32872978\">\n",
      "<td><div class=\"wrap t_right\"><input class=\"input_check\" name=\"input_check\" title=\"Dynamite 곡 선택\" type=\"checkbox\" value=\"32872978\"/></div></td>\n",
      "<td><div class=\"wrap\">\n",
      "<a class=\"image_typeAll\" href=\"javascript:melon.link.goAlbumDetail('10479150');\" title=\"Dynamite (DayTime Version)\">\n",
      "<img alt=\"Dynamite (DayTime Version) - 페이지 이동\" height=\"60\" onerror=\"WEBPOCIMG.defaultAlbumImg(this);\" src=\"https://cdnimg.melon.co.kr/cm2/album/images/104/79/150/10479150_20200918102847_500.jpg/melon/resize/120/quality/80/optimize\" width=\"60\"/>\n",
      "<span class=\"bg_album_frame\"></span>\n",
      "</a>\n",
      "</div></td>\n",
      "<td><div class=\"wrap\">\n",
      "<a class=\"btn button_icons type03 song_info\" href=\"javascript:melon.link.goSongDetail('32872978');\" title=\"Dynamite 곡정보\"><span class=\"none\">곡정보</span></a>\n",
      "</div></td>\n",
      "<td><div class=\"wrap\">\n",
      "<div class=\"wrap_song_info\">\n",
      "<div class=\"ellipsis rank01\"><span>\n",
      "<a href=\"javascript:melon.play.playSong('19030101',32872978);\" title=\"Dynamite 재생\">Dynamite</a>\n",
      "</span></div>\n",
      "<br/>\n",
      "<div class=\"ellipsis rank02\">\n",
      "<a href=\"javascript:melon.link.goArtistDetail('672375');\" title=\"방탄소년단 - 페이지 이동\">방탄소년단</a><span class=\"checkEllipsis\" style=\"display: none;\"><a href=\"javascript:melon.link.goArtistDetail('672375');\" title=\"방탄소년단 - 페이지 이동\">방탄소년단</a></span>\n",
      "</div>\n",
      "</div>\n",
      "</div></td>\n",
      "<td><div class=\"wrap\">\n",
      "<div class=\"wrap_song_info\">\n",
      "<div class=\"ellipsis rank03\">\n",
      "<a href=\"javascript:melon.link.goAlbumDetail('10479150');\" title=\"Dynamite (DayTime Version) - 페이지 이동\">Dynamite (DayTime Version)</a>\n",
      "</div>\n",
      "</div>\n",
      "</div></td>\n",
      "<td><div class=\"wrap\">\n",
      "<button class=\"button_etc like\" data-song-menuid=\"19030101\" data-song-no=\"32872978\" title=\"Dynamite 좋아요\" type=\"button\"><span class=\"odd_span\">좋아요</span>\n",
      "<span class=\"cnt\">\n",
      "<span class=\"none\">총건수</span>\n",
      "324,876</span></button>\n",
      "</div></td>\n",
      "<td><div class=\"wrap t_center\">\n",
      "<button class=\"button_icons play\" onclick=\"melon.play.playSong('19030101',32872978);\" title=\"듣기\" type=\"button\"><span class=\"none\">듣기</span></button>\n",
      "</div></td>\n",
      "<td><div class=\"wrap t_center\">\n",
      "<button class=\"button_icons scrap\" onclick=\"melon.play.addPlayList('32872978');\" title=\"담기\" type=\"button\"><span class=\"none\">담기</span></button>\n",
      "</div></td>\n",
      "<td><div class=\"wrap t_center\">\n",
      "<button class=\"button_icons download\" onclick=\"melon.buy.goBuyProduct('frm', '32872978', '3C0001', '','0', '19030101');\" title=\"다운로드\" type=\"button\"><span class=\"none\">다운로드</span></button>\n",
      "</div></td>\n",
      "<td><div class=\"wrap t_center\">\n",
      "<button class=\"button_icons video\" onclick=\"melon.link.goMvDetail('19030101', '32872978','song');\" title=\"뮤직비디오\" type=\"button\"><span class=\"none\">뮤직비디오</span></button>\n",
      "</div></td>\n",
      "</tr>\n"
     ]
    }
   ],
   "source": [
    "songs = soup.select('tbody > tr')\n",
    "print(len(songs))\n",
    "print(songs[0])"
   ]
  },
  {
   "cell_type": "code",
   "execution_count": 12,
   "metadata": {},
   "outputs": [
    {
     "name": "stdout",
     "output_type": "stream",
     "text": [
      "[<a class=\"image_typeAll\" href=\"javascript:melon.link.goAlbumDetail('10479150');\" title=\"Dynamite (DayTime Version)\">\n",
      "<img alt=\"Dynamite (DayTime Version) - 페이지 이동\" height=\"60\" onerror=\"WEBPOCIMG.defaultAlbumImg(this);\" src=\"https://cdnimg.melon.co.kr/cm2/album/images/104/79/150/10479150_20200918102847_500.jpg/melon/resize/120/quality/80/optimize\" width=\"60\"/>\n",
      "<span class=\"bg_album_frame\"></span>\n",
      "</a>, <a class=\"btn button_icons type03 song_info\" href=\"javascript:melon.link.goSongDetail('32872978');\" title=\"Dynamite 곡정보\"><span class=\"none\">곡정보</span></a>, <a href=\"javascript:melon.play.playSong('19030101',32872978);\" title=\"Dynamite 재생\">Dynamite</a>, <a href=\"javascript:melon.link.goArtistDetail('672375');\" title=\"방탄소년단 - 페이지 이동\">방탄소년단</a>, <a href=\"javascript:melon.link.goArtistDetail('672375');\" title=\"방탄소년단 - 페이지 이동\">방탄소년단</a>, <a href=\"javascript:melon.link.goAlbumDetail('10479150');\" title=\"Dynamite (DayTime Version) - 페이지 이동\">Dynamite (DayTime Version)</a>]\n"
     ]
    }
   ],
   "source": [
    "song = songs[0]\n",
    "title = song.select('a')\n",
    "len(title)\n",
    "print(title)"
   ]
  },
  {
   "cell_type": "code",
   "execution_count": 13,
   "metadata": {},
   "outputs": [
    {
     "name": "stdout",
     "output_type": "stream",
     "text": [
      "[<a href=\"javascript:melon.play.playSong('19030101',32872978);\" title=\"Dynamite 재생\">Dynamite</a>, <a href=\"javascript:melon.link.goArtistDetail('672375');\" title=\"방탄소년단 - 페이지 이동\">방탄소년단</a>]\n"
     ]
    }
   ],
   "source": [
    "title = song.select('span > a')\n",
    "len(title)\n",
    "print(title)"
   ]
  },
  {
   "cell_type": "code",
   "execution_count": 14,
   "metadata": {},
   "outputs": [
    {
     "name": "stdout",
     "output_type": "stream",
     "text": [
      "[<div class=\"ellipsis rank01\"><span>\n",
      "<a href=\"javascript:melon.play.playSong('19030101',32872978);\" title=\"Dynamite 재생\">Dynamite</a>\n",
      "</span></div>]\n"
     ]
    }
   ],
   "source": [
    "title = song.select('div.ellipsis.rank01')\n",
    "len(title)\n",
    "print(title)"
   ]
  },
  {
   "cell_type": "code",
   "execution_count": 15,
   "metadata": {},
   "outputs": [
    {
     "name": "stdout",
     "output_type": "stream",
     "text": [
      "Dynamite\n"
     ]
    }
   ],
   "source": [
    "title =song.select('div.ellipsis.rank01 > span > a')[0].text\n",
    "print(title)"
   ]
  },
  {
   "cell_type": "code",
   "execution_count": 16,
   "metadata": {},
   "outputs": [
    {
     "name": "stdout",
     "output_type": "stream",
     "text": [
      "방탄소년단\n"
     ]
    }
   ],
   "source": [
    "singer = song.select('div.ellipsis.rank02 > span > a')[0].text\n",
    "print(singer)"
   ]
  },
  {
   "cell_type": "code",
   "execution_count": 17,
   "metadata": {},
   "outputs": [
    {
     "name": "stdout",
     "output_type": "stream",
     "text": [
      "Dynamite | 방탄소년단\n",
      "DON'T TOUCH ME | 환불원정대\n",
      "Lovesick Girls | BLACKPINK\n",
      "취기를 빌려 (취향저격 그녀 X 산들) | 산들\n",
      "힘든 건 사랑이 아니다 | 임창정\n",
      "오래된 노래 | 스탠딩 에그\n",
      "놓아줘 (with 태연) | Crush\n",
      "Savage Love (Laxed - Siren Beat) (BTS Remix) | Jawsh 685\n",
      "When We Disco (Duet with 선미) | 박진영\n",
      "눈누난나 (NUNU NANA) | 제시 (Jessi)\n",
      "내 마음이 움찔했던 순간 (취향저격 그녀 X 규현) | 규현 (KYUHYUN)\n",
      "마리아 (Maria) | 화사 (Hwa Sa)\n",
      "How You Like That | BLACKPINK\n",
      "에잇(Prod.&Feat. SUGA of BTS) | 아이유\n",
      "Dolphin | 오마이걸 (OH MY GIRL)\n",
      "잠이 오질 않네요 | 장범준\n",
      "흔들리는 꽃들 속에서 네 샴푸향이 느껴진거야 | 장범준\n",
      "다시 여기 바닷가 | 싹쓰리 (유두래곤, 린다G, 비룡)\n",
      "아로하 | 조정석\n",
      "어떻게 지내 (Prod. By VAN.C) | 오반\n",
      "홀로 | 이하이\n",
      "Downtown Baby | 블루 (BLOO)\n",
      "Dance Monkey | Tones And I\n",
      "늦은 밤 너의 집 앞 골목길에서 | 노을\n",
      "Blueming | 아이유\n",
      "딩가딩가 (Dingga) | 마마무 (Mamamoo)\n",
      "어떻게 이별까지 사랑하겠어, 널 사랑하는 거지 | AKMU (악동뮤지션)\n",
      "Memories | Maroon 5\n",
      "METEOR | 창모 (CHANGMO)\n",
      "작은 것들을 위한 시 (Boy With Luv) (Feat. Halsey) | 방탄소년단\n",
      "사랑은 지날수록 더욱 선명하게 남아 | 전상근\n",
      "거짓말이라도 해서 널 보고싶어 | 백지영\n",
      "살짝 설렜어 (Nonstop) | 오마이걸 (OH MY GIRL)\n",
      "모든 날, 모든 순간 (Every day, Every Moment) | 폴킴\n",
      "서면역에서 | 순순희\n",
      "오늘도 빛나는 너에게 (To You My Light) (Feat.이라온) | 마크툽 (MAKTUB)\n",
      "Bad Boy | 청하\n",
      "2002 | Anne-Marie\n",
      "사랑하게 될 줄 알았어 | 전미도\n",
      "우리 왜 헤어져야 해 | 신예영\n",
      "덤디덤디 (DUMDi DUMDi) | (여자)아이들\n",
      "Ice Cream (with Selena Gomez) | BLACKPINK\n",
      "나랑 같이 걸을래 (바른연애 길잡이 X 적재) | 적재\n",
      "Don't Start Now | Dua Lipa\n",
      "Summer Hate (Feat. 비) | 지코 (ZICO)\n",
      "처음처럼 | 엠씨더맥스 (M.C the MAX)\n",
      "마음을 드려요 | 아이유\n",
      "Not Shy | ITZY (있지)\n",
      "봄날 | 방탄소년단\n",
      "사랑 못해, 남들 쉽게 다 하는 거 | 먼데이 키즈 (Monday Kiz)\n",
      "아무노래 | 지코 (ZICO)\n",
      "Pretty Savage | BLACKPINK\n",
      "안녕 | 폴킴\n",
      "보라빛 밤 (pporappippam) | 선미\n",
      "가을 타나 봐 | 바이브\n",
      "잠이 들어야 (Feat. 헤이즈) | 로꼬\n",
      "ON | 방탄소년단\n",
      "12:45 (Stripped) | Etham\n",
      "시작 | 가호 (Gaho)\n",
      "이제 나만 믿어요 | 임영웅\n",
      "Maniac | Conan Gray\n",
      "Love poem | 아이유\n",
      "너를 만나 | 폴킴\n",
      "축하해 | 오반\n",
      "Into the I-LAND | 아이유\n",
      "좋은 사람 있으면 소개시켜줘 | 조이 (JOY)\n",
      "Paris In The Rain | Lauv\n",
      "밤새 (취향저격 그녀 X 카더가든) | 카더가든\n",
      "취했나봐 | 황인욱\n",
      "Psycho | Red Velvet (레드벨벳)\n",
      "별을 담은 시 (Ode To The Stars) | 마크툽 (MAKTUB)\n",
      "그때 그 아인 | 김필\n",
      "ALIEN | 이수현\n",
      "행복해 | 송하예\n",
      "Bet You Wanna (Feat. Cardi B) | BLACKPINK\n",
      "Tip Toe (with 이하이) | Crush\n",
      "그 여름을 틀어줘 | 싹쓰리 (유두래곤, 린다G, 비룡)\n",
      "시든 꽃에 물을 주듯 | HYNN (박혜원)\n",
      "bad guy | Billie Eilish\n",
      "Painkiller | Ruel\n",
      "나비와 고양이 (feat.백현 (BAEKHYUN)) | 볼빨간사춘기\n",
      "하루도 그대를 사랑하지 않은 적이 없었다 | 임창정\n",
      "반만 | 진민호\n",
      "Stuck with U | Ariana Grande\n",
      "사랑하고 싶지 않아 (바른연애 길잡이 X XIA (준수)) | 김준수\n",
      "화려하지 않은 고백 | 규현 (KYUHYUN)\n",
      "신난다 (Feat. 마마무) | 비룡\n",
      "사랑이란 멜로는 없어 | 전상근\n",
      "첫 줄 | 신용재 (2F)\n",
      "밤하늘의 저 별처럼 | 헤이즈 (Heize)\n",
      "너를 사랑하고 있어 | 백현 (BAEKHYUN)\n",
      "HIP | 마마무 (Mamamoo)\n",
      "00:00 (Zero O’Clock) | 방탄소년단\n",
      "To Die For | Sam Smith\n",
      "MORE & MORE | TWICE (트와이스)\n",
      "소확행 | 임창정\n",
      "숲의 아이 (Bon voyage) | 유아 (오마이걸)\n",
      "너의 밤은 어때 (취향저격 그녀 X 정은지) | 정은지\n",
      "PLAY (Feat. 창모) | 청하\n",
      "여름 안에서 by 싹쓰리 (Feat. 황광희) | 싹쓰리 (유두래곤, 린다G, 비룡)\n"
     ]
    }
   ],
   "source": [
    "for song in songs:\n",
    "    title = song.select('div.ellipsis.rank01 > span > a')[0].text\n",
    "    singer = song.select('div.ellipsis.rank02 > span > a')[0].text\n",
    "    print(title, singer, sep=' | ')"
   ]
  },
  {
   "cell_type": "markdown",
   "metadata": {},
   "source": [
    "## Selenium만 활용하는 경우"
   ]
  },
  {
   "cell_type": "code",
   "execution_count": 20,
   "metadata": {},
   "outputs": [],
   "source": [
    "driver = webdriver.Chrome('C:/Users/gram/Downloads/chromedriver_win32/chromedriver.exe')\n",
    "url = 'http://www.melon.com/chart/index.htm'\n",
    "driver.get(url)"
   ]
  },
  {
   "cell_type": "code",
   "execution_count": 22,
   "metadata": {},
   "outputs": [
    {
     "name": "stdout",
     "output_type": "stream",
     "text": [
      "Dynamite | \n",
      "DON'T TOUCH ME | \n",
      "Lovesick Girls | \n",
      "취기를 빌려 (취향저격 그녀 X 산들) | \n",
      "힘든 건 사랑이 아니다 | \n",
      "오래된 노래 | \n",
      "놓아줘 (with 태연) | \n",
      "Savage Love (Laxed - Siren Beat) (BTS Remix) | \n",
      "When We Disco (Duet with 선미) | \n",
      "눈누난나 (NUNU NANA) | \n",
      "내 마음이 움찔했던 순간 (취향저격 그녀 X 규현) | \n",
      "마리아 (Maria) | \n",
      "How You Like That | \n",
      "에잇(Prod.&Feat. SUGA of BTS) | \n",
      "Dolphin | \n",
      "잠이 오질 않네요 | \n",
      "흔들리는 꽃들 속에서 네 샴푸향이 느껴진거야 | \n",
      "다시 여기 바닷가 | \n",
      "아로하 | \n",
      "어떻게 지내 (Prod. By VAN.C) | \n",
      "홀로 | \n",
      "Downtown Baby | \n",
      "Dance Monkey | \n",
      "늦은 밤 너의 집 앞 골목길에서 | \n",
      "딩가딩가 (Dingga) | \n",
      "Blueming | \n",
      "어떻게 이별까지 사랑하겠어, 널 사랑하는 거지 | \n",
      "Memories | \n",
      "METEOR | \n",
      "작은 것들을 위한 시 (Boy With Luv) (Feat. Halsey) | \n",
      "사랑은 지날수록 더욱 선명하게 남아 | \n",
      "거짓말이라도 해서 널 보고싶어 | \n",
      "살짝 설렜어 (Nonstop) | \n",
      "모든 날, 모든 순간 (Every day, Every Moment) | \n",
      "서면역에서 | \n",
      "오늘도 빛나는 너에게 (To You My Light) (Feat.이라온) | \n",
      "Bad Boy | \n",
      "2002 | \n",
      "사랑하게 될 줄 알았어 | \n",
      "우리 왜 헤어져야 해 | \n",
      "덤디덤디 (DUMDi DUMDi) | \n",
      "Ice Cream (with Selena Gomez) | \n",
      "나랑 같이 걸을래 (바른연애 길잡이 X 적재) | \n",
      "Don't Start Now | \n",
      "Summer Hate (Feat. 비) | \n",
      "처음처럼 | \n",
      "마음을 드려요 | \n",
      "Not Shy | \n",
      "봄날 | \n",
      "사랑 못해, 남들 쉽게 다 하는 거 | \n",
      "아무노래 | \n",
      "Pretty Savage | \n",
      "안녕 | \n",
      "보라빛 밤 (pporappippam) | \n",
      "가을 타나 봐 | \n",
      "잠이 들어야 (Feat. 헤이즈) | \n",
      "ON | \n",
      "12:45 (Stripped) | \n",
      "시작 | \n",
      "이제 나만 믿어요 | \n",
      "Maniac | \n",
      "Love poem | \n",
      "너를 만나 | \n",
      "축하해 | \n",
      "Into the I-LAND | \n",
      "좋은 사람 있으면 소개시켜줘 | \n",
      "Paris In The Rain | \n",
      "밤새 (취향저격 그녀 X 카더가든) | \n",
      "취했나봐 | \n",
      "별을 담은 시 (Ode To The Stars) | \n",
      "Psycho | \n",
      "ALIEN | \n",
      "그때 그 아인 | \n",
      "행복해 | \n",
      "Bet You Wanna (Feat. Cardi B) | \n",
      "Tip Toe (with 이하이) | \n",
      "그 여름을 틀어줘 | \n",
      "시든 꽃에 물을 주듯 | \n",
      "bad guy | \n",
      "Painkiller | \n",
      "나비와 고양이 (feat.백현 (BAEKHYUN)) | \n",
      "하루도 그대를 사랑하지 않은 적이 없었다 | \n",
      "반만 | \n",
      "Stuck with U | \n",
      "사랑하고 싶지 않아 (바른연애 길잡이 X XIA (준수)) | \n",
      "화려하지 않은 고백 | \n",
      "사랑이란 멜로는 없어 | \n",
      "신난다 (Feat. 마마무) | \n",
      "첫 줄 | \n",
      "밤하늘의 저 별처럼 | \n",
      "너를 사랑하고 있어 | \n",
      "HIP | \n",
      "00:00 (Zero O’Clock) | \n",
      "To Die For | \n",
      "MORE & MORE | \n",
      "소확행 | \n",
      "숲의 아이 (Bon voyage) | \n",
      "너의 밤은 어때 (취향저격 그녀 X 정은지) | \n",
      "PLAY (Feat. 창모) | \n",
      "여름 안에서 by 싹쓰리 (Feat. 황광희) | \n"
     ]
    }
   ],
   "source": [
    "songs = driver.find_elements_by_tag_name('tbody > tr')\n",
    "for song in songs:\n",
    "    title = song.find_element_by_css_selector('div.ellipsis.rank01 > span > a').text\n",
    "    singer = song.find_element_by_css_selector('div.ellipsis.rank02 > span > a').text\n",
    "    print(title, singer, sep=' | ')"
   ]
  },
  {
   "cell_type": "markdown",
   "metadata": {},
   "source": [
    "|              |Selenium + BeautifulSoup|Selenium|\n",
    "|:-------------|:----------------------:|:--------:|\n",
    "|웹 페이지 접속|HTML 정보 다운로드 후 브라우저 영향 없음 |웹 페이지 연결 유지 필요|\n",
    "|웹 페이지 동작|불가능 |클릭, 입력 등 조작 가능|\n",
    "|크롤링 속도   |빠름 |느림|"
   ]
  }
 ],
 "metadata": {
  "kernelspec": {
   "display_name": "Python 3",
   "language": "python",
   "name": "python3"
  },
  "language_info": {
   "codemirror_mode": {
    "name": "ipython",
    "version": 3
   },
   "file_extension": ".py",
   "mimetype": "text/x-python",
   "name": "python",
   "nbconvert_exporter": "python",
   "pygments_lexer": "ipython3",
   "version": "3.8.5"
  }
 },
 "nbformat": 4,
 "nbformat_minor": 4
}
